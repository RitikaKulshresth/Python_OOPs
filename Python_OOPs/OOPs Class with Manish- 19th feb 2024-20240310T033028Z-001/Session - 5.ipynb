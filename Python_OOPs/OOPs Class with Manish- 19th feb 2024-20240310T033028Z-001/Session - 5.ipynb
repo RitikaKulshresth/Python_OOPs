{
 "cells": [
  {
   "cell_type": "code",
   "execution_count": 1,
   "id": "072eeef2",
   "metadata": {},
   "outputs": [],
   "source": [
    "# The attributes of the class should not be accessed outside"
   ]
  },
  {
   "cell_type": "code",
   "execution_count": 2,
   "id": "3f044986",
   "metadata": {},
   "outputs": [],
   "source": [
    "class Employee:\n",
    "    company_name = \"XYZ Ltd\" # public\n",
    "    _department = 'HR' # protected\n",
    "    __salary = 20000 # private"
   ]
  },
  {
   "cell_type": "code",
   "execution_count": 3,
   "id": "9175e854",
   "metadata": {},
   "outputs": [],
   "source": [
    "e1 = Employee()"
   ]
  },
  {
   "cell_type": "code",
   "execution_count": 4,
   "id": "e9593e0a",
   "metadata": {},
   "outputs": [
    {
     "data": {
      "text/plain": [
       "'XYZ Ltd'"
      ]
     },
     "execution_count": 4,
     "metadata": {},
     "output_type": "execute_result"
    }
   ],
   "source": [
    "e1.company_name"
   ]
  },
  {
   "cell_type": "code",
   "execution_count": 5,
   "id": "9bfe622c",
   "metadata": {},
   "outputs": [],
   "source": [
    "e1.company_name = 'ABC ltd'"
   ]
  },
  {
   "cell_type": "code",
   "execution_count": 6,
   "id": "0fd34881",
   "metadata": {},
   "outputs": [
    {
     "data": {
      "text/plain": [
       "'ABC ltd'"
      ]
     },
     "execution_count": 6,
     "metadata": {},
     "output_type": "execute_result"
    }
   ],
   "source": [
    "e1.company_name"
   ]
  },
  {
   "cell_type": "code",
   "execution_count": 7,
   "id": "c212d628",
   "metadata": {},
   "outputs": [],
   "source": [
    "# Direct fetching and setting of the attribute should be restricted"
   ]
  },
  {
   "cell_type": "code",
   "execution_count": 8,
   "id": "a509d39a",
   "metadata": {},
   "outputs": [],
   "source": [
    "class Employee:\n",
    "    company = 'ABC ltd'\n",
    "    department = 'HR'\n",
    "    \n",
    "    def __init__(self, emp_id, emp_name, emp_salary):\n",
    "        self.emp_id = emp_id\n",
    "        self.emp_name = emp_name\n",
    "        self.emp_salary = emp_salary\n",
    "        \n",
    "    def get_emp_details(self):\n",
    "        return f\"{self.emp_name} has an employee id of {self.emp_id} and earns {self.emp_salary}\""
   ]
  },
  {
   "cell_type": "code",
   "execution_count": 9,
   "id": "1179df15",
   "metadata": {},
   "outputs": [],
   "source": [
    "e1 = Employee(101, 'John', 300000)"
   ]
  },
  {
   "cell_type": "code",
   "execution_count": 10,
   "id": "7c5f66aa",
   "metadata": {},
   "outputs": [
    {
     "data": {
      "text/plain": [
       "'John has an employee id of 101 and earns 300000'"
      ]
     },
     "execution_count": 10,
     "metadata": {},
     "output_type": "execute_result"
    }
   ],
   "source": [
    "e1.get_emp_details()"
   ]
  },
  {
   "cell_type": "code",
   "execution_count": 11,
   "id": "3347ff2a",
   "metadata": {},
   "outputs": [
    {
     "data": {
      "text/plain": [
       "'John'"
      ]
     },
     "execution_count": 11,
     "metadata": {},
     "output_type": "execute_result"
    }
   ],
   "source": [
    "e1.emp_name "
   ]
  },
  {
   "cell_type": "code",
   "execution_count": 12,
   "id": "334ba6a0",
   "metadata": {},
   "outputs": [
    {
     "data": {
      "text/plain": [
       "{'emp_id': 101, 'emp_name': 'John', 'emp_salary': 300000}"
      ]
     },
     "execution_count": 12,
     "metadata": {},
     "output_type": "execute_result"
    }
   ],
   "source": [
    "e1.__dict__"
   ]
  },
  {
   "cell_type": "code",
   "execution_count": 13,
   "id": "4acbcdaa",
   "metadata": {},
   "outputs": [],
   "source": [
    "e1.emp_salary = 350000"
   ]
  },
  {
   "cell_type": "code",
   "execution_count": 14,
   "id": "4520d858",
   "metadata": {},
   "outputs": [
    {
     "data": {
      "text/plain": [
       "350000"
      ]
     },
     "execution_count": 14,
     "metadata": {},
     "output_type": "execute_result"
    }
   ],
   "source": [
    "e1.emp_salary"
   ]
  },
  {
   "cell_type": "code",
   "execution_count": 15,
   "id": "036d729e",
   "metadata": {},
   "outputs": [],
   "source": [
    "e1.emp_salary = -10"
   ]
  },
  {
   "cell_type": "code",
   "execution_count": 16,
   "id": "0be89f40",
   "metadata": {},
   "outputs": [
    {
     "data": {
      "text/plain": [
       "{'emp_id': 101, 'emp_name': 'John', 'emp_salary': -10}"
      ]
     },
     "execution_count": 16,
     "metadata": {},
     "output_type": "execute_result"
    }
   ],
   "source": [
    "e1.__dict__"
   ]
  },
  {
   "cell_type": "code",
   "execution_count": null,
   "id": "42a83722",
   "metadata": {},
   "outputs": [],
   "source": []
  },
  {
   "cell_type": "code",
   "execution_count": 17,
   "id": "08e3b114",
   "metadata": {},
   "outputs": [],
   "source": [
    "# To restrict the direct access to the attributes, we use Getters and Setters"
   ]
  },
  {
   "cell_type": "code",
   "execution_count": 18,
   "id": "7f2c2da9",
   "metadata": {},
   "outputs": [],
   "source": [
    "# In Python, we use the property decorator to implement Getters and Setters"
   ]
  },
  {
   "cell_type": "code",
   "execution_count": 19,
   "id": "fdef5e92",
   "metadata": {},
   "outputs": [],
   "source": [
    "# Getter"
   ]
  },
  {
   "cell_type": "code",
   "execution_count": 20,
   "id": "2cc37dda",
   "metadata": {},
   "outputs": [],
   "source": [
    "class Employee:\n",
    "    def __init__(self, emp_id, emp_name, emp_salary):\n",
    "        self.emp_id = emp_id\n",
    "        self.emp_name = emp_name\n",
    "        self.emp_salary = emp_salary\n",
    "        \n",
    "    @property\n",
    "    def emp_salary(self):\n",
    "        return self.emp_salary"
   ]
  },
  {
   "cell_type": "code",
   "execution_count": 21,
   "id": "ec911ba4",
   "metadata": {},
   "outputs": [
    {
     "ename": "AttributeError",
     "evalue": "property 'emp_salary' of 'Employee' object has no setter",
     "output_type": "error",
     "traceback": [
      "\u001b[1;31m---------------------------------------------------------------------------\u001b[0m",
      "\u001b[1;31mAttributeError\u001b[0m                            Traceback (most recent call last)",
      "Cell \u001b[1;32mIn[21], line 1\u001b[0m\n\u001b[1;32m----> 1\u001b[0m e1 \u001b[38;5;241m=\u001b[39m Employee(\u001b[38;5;241m123\u001b[39m, \u001b[38;5;124m'\u001b[39m\u001b[38;5;124mCarol\u001b[39m\u001b[38;5;124m'\u001b[39m, \u001b[38;5;241m400000\u001b[39m)\n",
      "Cell \u001b[1;32mIn[20], line 5\u001b[0m, in \u001b[0;36mEmployee.__init__\u001b[1;34m(self, emp_id, emp_name, emp_salary)\u001b[0m\n\u001b[0;32m      3\u001b[0m \u001b[38;5;28mself\u001b[39m\u001b[38;5;241m.\u001b[39memp_id \u001b[38;5;241m=\u001b[39m emp_id\n\u001b[0;32m      4\u001b[0m \u001b[38;5;28mself\u001b[39m\u001b[38;5;241m.\u001b[39memp_name \u001b[38;5;241m=\u001b[39m emp_name\n\u001b[1;32m----> 5\u001b[0m \u001b[38;5;28mself\u001b[39m\u001b[38;5;241m.\u001b[39memp_salary \u001b[38;5;241m=\u001b[39m emp_salary\n",
      "\u001b[1;31mAttributeError\u001b[0m: property 'emp_salary' of 'Employee' object has no setter"
     ]
    }
   ],
   "source": [
    "e1 = Employee(123, 'Carol', 400000)"
   ]
  },
  {
   "cell_type": "code",
   "execution_count": 22,
   "id": "d2db1811",
   "metadata": {},
   "outputs": [],
   "source": [
    "class Employee:\n",
    "    def __init__(self, emp_id, emp_name, emp_salary):\n",
    "        self.emp_id = emp_id\n",
    "        self.emp_name = emp_name\n",
    "        self.emp_salary = emp_salary\n",
    "        \n",
    "    @property\n",
    "    def salary(self):\n",
    "        return self.emp_salary"
   ]
  },
  {
   "cell_type": "code",
   "execution_count": 23,
   "id": "1481f04a",
   "metadata": {},
   "outputs": [],
   "source": [
    "e1 = Employee(123, 'Carol', 400000)"
   ]
  },
  {
   "cell_type": "code",
   "execution_count": 24,
   "id": "66308b5c",
   "metadata": {},
   "outputs": [
    {
     "ename": "TypeError",
     "evalue": "'int' object is not callable",
     "output_type": "error",
     "traceback": [
      "\u001b[1;31m---------------------------------------------------------------------------\u001b[0m",
      "\u001b[1;31mTypeError\u001b[0m                                 Traceback (most recent call last)",
      "Cell \u001b[1;32mIn[24], line 1\u001b[0m\n\u001b[1;32m----> 1\u001b[0m e1\u001b[38;5;241m.\u001b[39msalary()\n",
      "\u001b[1;31mTypeError\u001b[0m: 'int' object is not callable"
     ]
    }
   ],
   "source": [
    "e1.salary()"
   ]
  },
  {
   "cell_type": "code",
   "execution_count": 25,
   "id": "24674c05",
   "metadata": {},
   "outputs": [
    {
     "data": {
      "text/plain": [
       "400000"
      ]
     },
     "execution_count": 25,
     "metadata": {},
     "output_type": "execute_result"
    }
   ],
   "source": [
    "e1.salary"
   ]
  },
  {
   "cell_type": "code",
   "execution_count": 26,
   "id": "192b3d8d",
   "metadata": {},
   "outputs": [
    {
     "data": {
      "text/plain": [
       "400000"
      ]
     },
     "execution_count": 26,
     "metadata": {},
     "output_type": "execute_result"
    }
   ],
   "source": [
    "e1.emp_salary"
   ]
  },
  {
   "cell_type": "code",
   "execution_count": 27,
   "id": "de700884",
   "metadata": {},
   "outputs": [],
   "source": [
    "class Employee:\n",
    "    def __init__(self, emp_id, emp_name, emp_salary):\n",
    "        self.emp_id = emp_id\n",
    "        self.emp_name = emp_name\n",
    "        self.__emp_salary = emp_salary\n",
    "        \n",
    "    @property\n",
    "    def salary(self):\n",
    "        return self.__emp_salary"
   ]
  },
  {
   "cell_type": "code",
   "execution_count": 28,
   "id": "2b72e30f",
   "metadata": {},
   "outputs": [],
   "source": [
    "e1 = Employee(123, 'Carol', 400000)"
   ]
  },
  {
   "cell_type": "code",
   "execution_count": 29,
   "id": "3d7b1a91",
   "metadata": {},
   "outputs": [
    {
     "ename": "AttributeError",
     "evalue": "'Employee' object has no attribute '__emp_salary'",
     "output_type": "error",
     "traceback": [
      "\u001b[1;31m---------------------------------------------------------------------------\u001b[0m",
      "\u001b[1;31mAttributeError\u001b[0m                            Traceback (most recent call last)",
      "Cell \u001b[1;32mIn[29], line 1\u001b[0m\n\u001b[1;32m----> 1\u001b[0m e1\u001b[38;5;241m.\u001b[39m__emp_salary\n",
      "\u001b[1;31mAttributeError\u001b[0m: 'Employee' object has no attribute '__emp_salary'"
     ]
    }
   ],
   "source": [
    "e1.__emp_salary"
   ]
  },
  {
   "cell_type": "code",
   "execution_count": 30,
   "id": "296b33b7",
   "metadata": {},
   "outputs": [
    {
     "data": {
      "text/plain": [
       "400000"
      ]
     },
     "execution_count": 30,
     "metadata": {},
     "output_type": "execute_result"
    }
   ],
   "source": [
    "e1.salary"
   ]
  },
  {
   "cell_type": "code",
   "execution_count": 31,
   "id": "80ec1295",
   "metadata": {},
   "outputs": [
    {
     "ename": "AttributeError",
     "evalue": "property 'salary' of 'Employee' object has no setter",
     "output_type": "error",
     "traceback": [
      "\u001b[1;31m---------------------------------------------------------------------------\u001b[0m",
      "\u001b[1;31mAttributeError\u001b[0m                            Traceback (most recent call last)",
      "Cell \u001b[1;32mIn[31], line 1\u001b[0m\n\u001b[1;32m----> 1\u001b[0m e1\u001b[38;5;241m.\u001b[39msalary \u001b[38;5;241m=\u001b[39m \u001b[38;5;241m500000\u001b[39m\n",
      "\u001b[1;31mAttributeError\u001b[0m: property 'salary' of 'Employee' object has no setter"
     ]
    }
   ],
   "source": [
    "e1.salary = 500000"
   ]
  },
  {
   "cell_type": "code",
   "execution_count": 32,
   "id": "a0b9d6ff",
   "metadata": {},
   "outputs": [],
   "source": [
    "# the 'property' decorator converts the method into a variable/attribute/property"
   ]
  },
  {
   "cell_type": "code",
   "execution_count": 33,
   "id": "54c18641",
   "metadata": {},
   "outputs": [],
   "source": [
    "# @property decorator is used to create Getter"
   ]
  },
  {
   "cell_type": "code",
   "execution_count": 34,
   "id": "e2cb58ee",
   "metadata": {},
   "outputs": [],
   "source": [
    "# Setter"
   ]
  },
  {
   "cell_type": "code",
   "execution_count": 36,
   "id": "81f6ac72",
   "metadata": {},
   "outputs": [],
   "source": [
    "class Employee:\n",
    "    def __init__(self, emp_id, emp_name, emp_salary):\n",
    "        self.emp_id = emp_id\n",
    "        self.emp_name = emp_name\n",
    "        self.__emp_salary = emp_salary\n",
    "        \n",
    "    # Getter\n",
    "    @property\n",
    "    def salary(self):\n",
    "        return self.__emp_salary\n",
    "    \n",
    "    \n",
    "    # Setter\n",
    "    @salary.setter\n",
    "    def salary(self, new_salary):\n",
    "        self.__emp_salary = new_salary"
   ]
  },
  {
   "cell_type": "code",
   "execution_count": 37,
   "id": "cfda300b",
   "metadata": {},
   "outputs": [],
   "source": [
    "e1 = Employee(123, 'Carol', 400000)"
   ]
  },
  {
   "cell_type": "code",
   "execution_count": 38,
   "id": "0731c670",
   "metadata": {},
   "outputs": [
    {
     "data": {
      "text/plain": [
       "400000"
      ]
     },
     "execution_count": 38,
     "metadata": {},
     "output_type": "execute_result"
    }
   ],
   "source": [
    "e1.salary"
   ]
  },
  {
   "cell_type": "code",
   "execution_count": 39,
   "id": "90028f45",
   "metadata": {},
   "outputs": [],
   "source": [
    "e1.salary = 500000"
   ]
  },
  {
   "cell_type": "code",
   "execution_count": 40,
   "id": "5292efc5",
   "metadata": {},
   "outputs": [
    {
     "data": {
      "text/plain": [
       "500000"
      ]
     },
     "execution_count": 40,
     "metadata": {},
     "output_type": "execute_result"
    }
   ],
   "source": [
    "e1.salary"
   ]
  },
  {
   "cell_type": "code",
   "execution_count": 41,
   "id": "48e8ef58",
   "metadata": {},
   "outputs": [
    {
     "name": "stdout",
     "output_type": "stream",
     "text": [
      "Help on class Employee in module __main__:\n",
      "\n",
      "class Employee(builtins.object)\n",
      " |  Employee(emp_id, emp_name, emp_salary)\n",
      " |  \n",
      " |  Methods defined here:\n",
      " |  \n",
      " |  __init__(self, emp_id, emp_name, emp_salary)\n",
      " |      Initialize self.  See help(type(self)) for accurate signature.\n",
      " |  \n",
      " |  ----------------------------------------------------------------------\n",
      " |  Data descriptors defined here:\n",
      " |  \n",
      " |  __dict__\n",
      " |      dictionary for instance variables (if defined)\n",
      " |  \n",
      " |  __weakref__\n",
      " |      list of weak references to the object (if defined)\n",
      " |  \n",
      " |  salary\n",
      "\n"
     ]
    }
   ],
   "source": [
    "help(Employee)"
   ]
  },
  {
   "cell_type": "code",
   "execution_count": 42,
   "id": "398469d1",
   "metadata": {},
   "outputs": [],
   "source": [
    "e1.salary = -10"
   ]
  },
  {
   "cell_type": "code",
   "execution_count": 43,
   "id": "825ed579",
   "metadata": {},
   "outputs": [
    {
     "data": {
      "text/plain": [
       "-10"
      ]
     },
     "execution_count": 43,
     "metadata": {},
     "output_type": "execute_result"
    }
   ],
   "source": [
    "e1.salary"
   ]
  },
  {
   "cell_type": "code",
   "execution_count": 44,
   "id": "57ad2941",
   "metadata": {},
   "outputs": [],
   "source": [
    "class Employee:\n",
    "    def __init__(self, emp_id, emp_name, emp_salary):\n",
    "        self.emp_id = emp_id\n",
    "        self.emp_name = emp_name\n",
    "        self.__emp_salary = emp_salary\n",
    "        \n",
    "    # Getter\n",
    "    @property\n",
    "    def salary(self):\n",
    "        return self.__emp_salary\n",
    "    \n",
    "    \n",
    "    # Setter\n",
    "    @salary.setter\n",
    "    def salary(self, new_salary):\n",
    "        if new_salary >= self.__emp_salary:\n",
    "            self.__emp_salary = new_salary\n",
    "        else:\n",
    "            return \"Cannot set lower salary!!\""
   ]
  },
  {
   "cell_type": "code",
   "execution_count": 45,
   "id": "9c199183",
   "metadata": {},
   "outputs": [],
   "source": [
    "e1 = Employee(123, 'Carol', 400000)"
   ]
  },
  {
   "cell_type": "code",
   "execution_count": 46,
   "id": "59b970e3",
   "metadata": {},
   "outputs": [
    {
     "data": {
      "text/plain": [
       "400000"
      ]
     },
     "execution_count": 46,
     "metadata": {},
     "output_type": "execute_result"
    }
   ],
   "source": [
    "e1.salary"
   ]
  },
  {
   "cell_type": "code",
   "execution_count": 47,
   "id": "283746b2",
   "metadata": {},
   "outputs": [],
   "source": [
    "e1.salary = 500000"
   ]
  },
  {
   "cell_type": "code",
   "execution_count": 49,
   "id": "e3968ab9",
   "metadata": {},
   "outputs": [
    {
     "data": {
      "text/plain": [
       "500000"
      ]
     },
     "execution_count": 49,
     "metadata": {},
     "output_type": "execute_result"
    }
   ],
   "source": [
    "e1.salary"
   ]
  },
  {
   "cell_type": "code",
   "execution_count": 50,
   "id": "a49d537d",
   "metadata": {},
   "outputs": [],
   "source": [
    "e1.salary = -10"
   ]
  },
  {
   "cell_type": "code",
   "execution_count": 51,
   "id": "25738621",
   "metadata": {},
   "outputs": [
    {
     "data": {
      "text/plain": [
       "500000"
      ]
     },
     "execution_count": 51,
     "metadata": {},
     "output_type": "execute_result"
    }
   ],
   "source": [
    "e1.salary"
   ]
  },
  {
   "cell_type": "code",
   "execution_count": 52,
   "id": "0936007f",
   "metadata": {},
   "outputs": [],
   "source": [
    "class Employee:\n",
    "    def __init__(self, emp_id, emp_name, emp_salary):\n",
    "        self.emp_id = emp_id\n",
    "        self.emp_name = emp_name\n",
    "        self.__emp_salary = emp_salary\n",
    "        \n",
    "    # Getter\n",
    "    @property\n",
    "    def salary(self):\n",
    "        return self.__emp_salary\n",
    "    \n",
    "    \n",
    "    # Setter\n",
    "    @salary.setter\n",
    "    def salary(self, new_salary):\n",
    "        if new_salary >= self.__emp_salary:\n",
    "            self.__emp_salary = new_salary\n",
    "        else:\n",
    "            print(\"Cannot set lower salary!!\")"
   ]
  },
  {
   "cell_type": "code",
   "execution_count": 53,
   "id": "a1d29dc9",
   "metadata": {},
   "outputs": [],
   "source": [
    "e1 = Employee(123, 'Carol', 400000)"
   ]
  },
  {
   "cell_type": "code",
   "execution_count": 54,
   "id": "c44a1003",
   "metadata": {},
   "outputs": [
    {
     "data": {
      "text/plain": [
       "400000"
      ]
     },
     "execution_count": 54,
     "metadata": {},
     "output_type": "execute_result"
    }
   ],
   "source": [
    "e1.salary"
   ]
  },
  {
   "cell_type": "code",
   "execution_count": 55,
   "id": "96feab6e",
   "metadata": {},
   "outputs": [
    {
     "name": "stdout",
     "output_type": "stream",
     "text": [
      "Cannot set lower salary!!\n"
     ]
    }
   ],
   "source": [
    "e1.salary = -10"
   ]
  },
  {
   "cell_type": "code",
   "execution_count": 56,
   "id": "5e747bb4",
   "metadata": {},
   "outputs": [
    {
     "data": {
      "text/plain": [
       "400000"
      ]
     },
     "execution_count": 56,
     "metadata": {},
     "output_type": "execute_result"
    }
   ],
   "source": [
    "e1.salary"
   ]
  },
  {
   "cell_type": "code",
   "execution_count": null,
   "id": "8c534422",
   "metadata": {},
   "outputs": [],
   "source": []
  },
  {
   "cell_type": "code",
   "execution_count": 57,
   "id": "e70fc3a4",
   "metadata": {},
   "outputs": [],
   "source": [
    "class Employee:\n",
    "    def __init__(self, emp_id, emp_name, emp_salary):\n",
    "        self.__emp_id = emp_id\n",
    "        self.emp_name = emp_name\n",
    "        self.__emp_salary = emp_salary\n",
    "        \n",
    "    # Getter\n",
    "    @property\n",
    "    def salary(self):\n",
    "        return self.__emp_salary\n",
    "    \n",
    "    \n",
    "    # Setter\n",
    "    @salary.setter\n",
    "    def salary(self, new_salary):\n",
    "        if new_salary >= self.__emp_salary:\n",
    "            self.__emp_salary = new_salary\n",
    "        else:\n",
    "            print(\"Cannot set lower salary!!\")\n",
    "            \n",
    "    # Getter\n",
    "    @property\n",
    "    def empid(self):\n",
    "        return self.__emp_id\n",
    "    \n",
    "    \n",
    "    # Setter\n",
    "    @empid.setter\n",
    "    def empid(self, new_empid):\n",
    "        print(\"Cannot change Employee's ID. Not allowed!!\")"
   ]
  },
  {
   "cell_type": "code",
   "execution_count": 58,
   "id": "91388aa2",
   "metadata": {},
   "outputs": [],
   "source": [
    "e1 = Employee(123, 'Carol', 400000)"
   ]
  },
  {
   "cell_type": "code",
   "execution_count": 59,
   "id": "7dfb0e12",
   "metadata": {},
   "outputs": [
    {
     "data": {
      "text/plain": [
       "123"
      ]
     },
     "execution_count": 59,
     "metadata": {},
     "output_type": "execute_result"
    }
   ],
   "source": [
    "e1.empid"
   ]
  },
  {
   "cell_type": "code",
   "execution_count": 60,
   "id": "8c359241",
   "metadata": {},
   "outputs": [
    {
     "name": "stdout",
     "output_type": "stream",
     "text": [
      "Cannot change Employee's ID. Not allowed!!\n"
     ]
    }
   ],
   "source": [
    "e1.empid = 1234"
   ]
  },
  {
   "cell_type": "code",
   "execution_count": null,
   "id": "39861131",
   "metadata": {},
   "outputs": [],
   "source": []
  },
  {
   "cell_type": "code",
   "execution_count": 61,
   "id": "9ab8a60f",
   "metadata": {},
   "outputs": [],
   "source": [
    "# Inheritance"
   ]
  },
  {
   "cell_type": "code",
   "execution_count": 63,
   "id": "6cc554ae",
   "metadata": {},
   "outputs": [],
   "source": [
    "# A class inheriting properties and methods of one or more classes is called inheritance"
   ]
  },
  {
   "cell_type": "code",
   "execution_count": 68,
   "id": "967609ca",
   "metadata": {},
   "outputs": [],
   "source": [
    "class Vehicle:\n",
    "    company = 'ABC Motors'\n",
    "    \n",
    "    def __init__(self, engine_type, mileage, wheels):\n",
    "        self.engine_type = engine_type\n",
    "        self.mileage = mileage\n",
    "        self.wheels = wheels\n",
    "        \n",
    "    def get_details(self):\n",
    "        return f\"This {self.engine_type} vehicle has {self.wheels} wheels and gives a mileage of {self.mileage}\""
   ]
  },
  {
   "cell_type": "code",
   "execution_count": 69,
   "id": "ebadc4d4",
   "metadata": {},
   "outputs": [
    {
     "name": "stdout",
     "output_type": "stream",
     "text": [
      "Help on class Vehicle in module __main__:\n",
      "\n",
      "class Vehicle(builtins.object)\n",
      " |  Vehicle(engine_type, mileage, wheels)\n",
      " |  \n",
      " |  Methods defined here:\n",
      " |  \n",
      " |  __init__(self, engine_type, mileage, wheels)\n",
      " |      Initialize self.  See help(type(self)) for accurate signature.\n",
      " |  \n",
      " |  get_details(self)\n",
      " |  \n",
      " |  ----------------------------------------------------------------------\n",
      " |  Data descriptors defined here:\n",
      " |  \n",
      " |  __dict__\n",
      " |      dictionary for instance variables (if defined)\n",
      " |  \n",
      " |  __weakref__\n",
      " |      list of weak references to the object (if defined)\n",
      " |  \n",
      " |  ----------------------------------------------------------------------\n",
      " |  Data and other attributes defined here:\n",
      " |  \n",
      " |  company = 'ABC Motors'\n",
      "\n"
     ]
    }
   ],
   "source": [
    "help(Vehicle)"
   ]
  },
  {
   "cell_type": "code",
   "execution_count": 70,
   "id": "82d96918",
   "metadata": {},
   "outputs": [],
   "source": [
    "v1 = Vehicle('Petrol', 20, 4)"
   ]
  },
  {
   "cell_type": "code",
   "execution_count": 71,
   "id": "15035966",
   "metadata": {},
   "outputs": [
    {
     "data": {
      "text/plain": [
       "'This Petrol vehicle has 4 wheels and gives a mileage of 20'"
      ]
     },
     "execution_count": 71,
     "metadata": {},
     "output_type": "execute_result"
    }
   ],
   "source": [
    "v1.get_details()"
   ]
  },
  {
   "cell_type": "code",
   "execution_count": null,
   "id": "248f061d",
   "metadata": {},
   "outputs": [],
   "source": []
  },
  {
   "cell_type": "code",
   "execution_count": 72,
   "id": "0ae7187f",
   "metadata": {},
   "outputs": [],
   "source": [
    "class Car(Vehicle):\n",
    "    pass"
   ]
  },
  {
   "cell_type": "code",
   "execution_count": 73,
   "id": "92c82602",
   "metadata": {},
   "outputs": [],
   "source": [
    "# 'Car' class is inheriting the 'Vehicle' class\n",
    "# Car class => Child class/ Derived class/ Sub class\n",
    "# Vehicle class => Parent class/ Base class/ Super class"
   ]
  },
  {
   "cell_type": "code",
   "execution_count": 74,
   "id": "e08dc714",
   "metadata": {},
   "outputs": [],
   "source": [
    "# Car class will have access to all the attributes and methods of the Vehicle class"
   ]
  },
  {
   "cell_type": "code",
   "execution_count": 75,
   "id": "ad0f8a68",
   "metadata": {},
   "outputs": [
    {
     "ename": "TypeError",
     "evalue": "Vehicle.__init__() missing 3 required positional arguments: 'engine_type', 'mileage', and 'wheels'",
     "output_type": "error",
     "traceback": [
      "\u001b[1;31m---------------------------------------------------------------------------\u001b[0m",
      "\u001b[1;31mTypeError\u001b[0m                                 Traceback (most recent call last)",
      "Cell \u001b[1;32mIn[75], line 1\u001b[0m\n\u001b[1;32m----> 1\u001b[0m c1 \u001b[38;5;241m=\u001b[39m Car()\n",
      "\u001b[1;31mTypeError\u001b[0m: Vehicle.__init__() missing 3 required positional arguments: 'engine_type', 'mileage', and 'wheels'"
     ]
    }
   ],
   "source": [
    "c1 = Car()"
   ]
  },
  {
   "cell_type": "code",
   "execution_count": 76,
   "id": "c5d07b2e",
   "metadata": {},
   "outputs": [],
   "source": [
    "# When the child class does not have its own __init__(), the __Init__() of the parent\n",
    "# is called\n",
    "# So, we need to pass the arguments of the parent class while creating the object of\n",
    "# the child class"
   ]
  },
  {
   "cell_type": "code",
   "execution_count": 77,
   "id": "2919258a",
   "metadata": {},
   "outputs": [],
   "source": [
    "# It becomes the responsibility of the child class to initialize the parent class"
   ]
  },
  {
   "cell_type": "code",
   "execution_count": 78,
   "id": "3b70f444",
   "metadata": {},
   "outputs": [
    {
     "name": "stdout",
     "output_type": "stream",
     "text": [
      "Help on class Car in module __main__:\n",
      "\n",
      "class Car(Vehicle)\n",
      " |  Car(engine_type, mileage, wheels)\n",
      " |  \n",
      " |  Method resolution order:\n",
      " |      Car\n",
      " |      Vehicle\n",
      " |      builtins.object\n",
      " |  \n",
      " |  Methods inherited from Vehicle:\n",
      " |  \n",
      " |  __init__(self, engine_type, mileage, wheels)\n",
      " |      Initialize self.  See help(type(self)) for accurate signature.\n",
      " |  \n",
      " |  get_details(self)\n",
      " |  \n",
      " |  ----------------------------------------------------------------------\n",
      " |  Data descriptors inherited from Vehicle:\n",
      " |  \n",
      " |  __dict__\n",
      " |      dictionary for instance variables (if defined)\n",
      " |  \n",
      " |  __weakref__\n",
      " |      list of weak references to the object (if defined)\n",
      " |  \n",
      " |  ----------------------------------------------------------------------\n",
      " |  Data and other attributes inherited from Vehicle:\n",
      " |  \n",
      " |  company = 'ABC Motors'\n",
      "\n"
     ]
    }
   ],
   "source": [
    "help(Car)"
   ]
  },
  {
   "cell_type": "code",
   "execution_count": 79,
   "id": "fd1e4144",
   "metadata": {},
   "outputs": [],
   "source": [
    "c1 = Car('D', 15, 4)"
   ]
  },
  {
   "cell_type": "code",
   "execution_count": 80,
   "id": "ce194077",
   "metadata": {},
   "outputs": [
    {
     "data": {
      "text/plain": [
       "'This D vehicle has 4 wheels and gives a mileage of 15'"
      ]
     },
     "execution_count": 80,
     "metadata": {},
     "output_type": "execute_result"
    }
   ],
   "source": [
    "c1.get_details()"
   ]
  },
  {
   "cell_type": "code",
   "execution_count": 81,
   "id": "669e2146",
   "metadata": {},
   "outputs": [
    {
     "data": {
      "text/plain": [
       "'ABC Motors'"
      ]
     },
     "execution_count": 81,
     "metadata": {},
     "output_type": "execute_result"
    }
   ],
   "source": [
    "c1.company"
   ]
  },
  {
   "cell_type": "code",
   "execution_count": 82,
   "id": "542191d6",
   "metadata": {},
   "outputs": [
    {
     "data": {
      "text/plain": [
       "'D'"
      ]
     },
     "execution_count": 82,
     "metadata": {},
     "output_type": "execute_result"
    }
   ],
   "source": [
    "c1.engine_type"
   ]
  },
  {
   "cell_type": "code",
   "execution_count": 83,
   "id": "7f10db9d",
   "metadata": {},
   "outputs": [
    {
     "data": {
      "text/plain": [
       "15"
      ]
     },
     "execution_count": 83,
     "metadata": {},
     "output_type": "execute_result"
    }
   ],
   "source": [
    "c1.mileage"
   ]
  },
  {
   "cell_type": "code",
   "execution_count": 84,
   "id": "e2b03629",
   "metadata": {},
   "outputs": [
    {
     "data": {
      "text/plain": [
       "4"
      ]
     },
     "execution_count": 84,
     "metadata": {},
     "output_type": "execute_result"
    }
   ],
   "source": [
    "c1.wheels"
   ]
  },
  {
   "cell_type": "code",
   "execution_count": null,
   "id": "f6cfc76b",
   "metadata": {},
   "outputs": [],
   "source": []
  },
  {
   "cell_type": "code",
   "execution_count": 85,
   "id": "211ecd30",
   "metadata": {},
   "outputs": [],
   "source": [
    "# When we create an object of the child class, we have to initiliaze the instance vaiables\n",
    "# of the parent class (if the parent class has __init__() defined)"
   ]
  },
  {
   "cell_type": "code",
   "execution_count": null,
   "id": "a52293ba",
   "metadata": {},
   "outputs": [],
   "source": []
  },
  {
   "cell_type": "code",
   "execution_count": 86,
   "id": "e9254b6d",
   "metadata": {},
   "outputs": [],
   "source": [
    "# When child (Car) has its own __init__()"
   ]
  },
  {
   "cell_type": "code",
   "execution_count": 87,
   "id": "edd29118",
   "metadata": {},
   "outputs": [],
   "source": [
    "class Car(Vehicle):\n",
    "    def __init__(self, seats, transmission):\n",
    "        print(\"Inside Car class\")\n",
    "        self.seats = seats\n",
    "        self.transmission = transmission"
   ]
  },
  {
   "cell_type": "code",
   "execution_count": 88,
   "id": "562bae1c",
   "metadata": {},
   "outputs": [
    {
     "name": "stdout",
     "output_type": "stream",
     "text": [
      "Inside Car class\n"
     ]
    }
   ],
   "source": [
    "c1 = Car(5, 'Manual')"
   ]
  },
  {
   "cell_type": "code",
   "execution_count": 89,
   "id": "00e1ab94",
   "metadata": {},
   "outputs": [],
   "source": [
    "# When the child class has its own __Init__() then when we create an object of the child\n",
    "# class, it calls its own __Init__() and not the __init__() of the parent"
   ]
  },
  {
   "cell_type": "code",
   "execution_count": 90,
   "id": "4d95585b",
   "metadata": {},
   "outputs": [
    {
     "ename": "AttributeError",
     "evalue": "'Car' object has no attribute 'engine_type'",
     "output_type": "error",
     "traceback": [
      "\u001b[1;31m---------------------------------------------------------------------------\u001b[0m",
      "\u001b[1;31mAttributeError\u001b[0m                            Traceback (most recent call last)",
      "Cell \u001b[1;32mIn[90], line 1\u001b[0m\n\u001b[1;32m----> 1\u001b[0m c1\u001b[38;5;241m.\u001b[39mengine_type\n",
      "\u001b[1;31mAttributeError\u001b[0m: 'Car' object has no attribute 'engine_type'"
     ]
    }
   ],
   "source": [
    "c1.engine_type"
   ]
  },
  {
   "cell_type": "code",
   "execution_count": 91,
   "id": "0dc5e780",
   "metadata": {},
   "outputs": [
    {
     "name": "stdout",
     "output_type": "stream",
     "text": [
      "Help on class Car in module __main__:\n",
      "\n",
      "class Car(Vehicle)\n",
      " |  Car(seats, transmission)\n",
      " |  \n",
      " |  Method resolution order:\n",
      " |      Car\n",
      " |      Vehicle\n",
      " |      builtins.object\n",
      " |  \n",
      " |  Methods defined here:\n",
      " |  \n",
      " |  __init__(self, seats, transmission)\n",
      " |      Initialize self.  See help(type(self)) for accurate signature.\n",
      " |  \n",
      " |  ----------------------------------------------------------------------\n",
      " |  Methods inherited from Vehicle:\n",
      " |  \n",
      " |  get_details(self)\n",
      " |  \n",
      " |  ----------------------------------------------------------------------\n",
      " |  Data descriptors inherited from Vehicle:\n",
      " |  \n",
      " |  __dict__\n",
      " |      dictionary for instance variables (if defined)\n",
      " |  \n",
      " |  __weakref__\n",
      " |      list of weak references to the object (if defined)\n",
      " |  \n",
      " |  ----------------------------------------------------------------------\n",
      " |  Data and other attributes inherited from Vehicle:\n",
      " |  \n",
      " |  company = 'ABC Motors'\n",
      "\n"
     ]
    }
   ],
   "source": [
    "help(Car)"
   ]
  },
  {
   "cell_type": "code",
   "execution_count": 92,
   "id": "a593f4d8",
   "metadata": {},
   "outputs": [
    {
     "ename": "AttributeError",
     "evalue": "'Car' object has no attribute 'engine_type'",
     "output_type": "error",
     "traceback": [
      "\u001b[1;31m---------------------------------------------------------------------------\u001b[0m",
      "\u001b[1;31mAttributeError\u001b[0m                            Traceback (most recent call last)",
      "Cell \u001b[1;32mIn[92], line 1\u001b[0m\n\u001b[1;32m----> 1\u001b[0m c1\u001b[38;5;241m.\u001b[39mget_details()\n",
      "Cell \u001b[1;32mIn[68], line 10\u001b[0m, in \u001b[0;36mVehicle.get_details\u001b[1;34m(self)\u001b[0m\n\u001b[0;32m      9\u001b[0m \u001b[38;5;28;01mdef\u001b[39;00m \u001b[38;5;21mget_details\u001b[39m(\u001b[38;5;28mself\u001b[39m):\n\u001b[1;32m---> 10\u001b[0m     \u001b[38;5;28;01mreturn\u001b[39;00m \u001b[38;5;124mf\u001b[39m\u001b[38;5;124m\"\u001b[39m\u001b[38;5;124mThis \u001b[39m\u001b[38;5;132;01m{\u001b[39;00m\u001b[38;5;28mself\u001b[39m\u001b[38;5;241m.\u001b[39mengine_type\u001b[38;5;132;01m}\u001b[39;00m\u001b[38;5;124m vehicle has \u001b[39m\u001b[38;5;132;01m{\u001b[39;00m\u001b[38;5;28mself\u001b[39m\u001b[38;5;241m.\u001b[39mwheels\u001b[38;5;132;01m}\u001b[39;00m\u001b[38;5;124m wheels and gives a mileage of \u001b[39m\u001b[38;5;132;01m{\u001b[39;00m\u001b[38;5;28mself\u001b[39m\u001b[38;5;241m.\u001b[39mmileage\u001b[38;5;132;01m}\u001b[39;00m\u001b[38;5;124m\"\u001b[39m\n",
      "\u001b[1;31mAttributeError\u001b[0m: 'Car' object has no attribute 'engine_type'"
     ]
    }
   ],
   "source": [
    "c1.get_details()"
   ]
  },
  {
   "cell_type": "code",
   "execution_count": 93,
   "id": "cf49e526",
   "metadata": {},
   "outputs": [],
   "source": [
    "# It is still the responsibilty of the child class to initialize the instance variables\n",
    "# of the parent class"
   ]
  },
  {
   "cell_type": "code",
   "execution_count": 94,
   "id": "a4bedc38",
   "metadata": {},
   "outputs": [],
   "source": [
    "# How?"
   ]
  },
  {
   "cell_type": "code",
   "execution_count": 95,
   "id": "36c78a6b",
   "metadata": {},
   "outputs": [],
   "source": [
    "# WHen we have the __init__() method of the child class, then we have to call the __init__()\n",
    "# method of the parent class explicitly (manully)"
   ]
  },
  {
   "cell_type": "code",
   "execution_count": null,
   "id": "34a0af97",
   "metadata": {},
   "outputs": [],
   "source": []
  },
  {
   "cell_type": "code",
   "execution_count": 96,
   "id": "6f522b08",
   "metadata": {},
   "outputs": [],
   "source": [
    "class Vehicle:\n",
    "    company = 'ABC Motors'\n",
    "    \n",
    "    def __init__(self, engine_type, mileage, wheels):\n",
    "        print(\"Inside Vehicle class\")\n",
    "        self.engine_type = engine_type\n",
    "        self.mileage = mileage\n",
    "        self.wheels = wheels\n",
    "        \n",
    "    def get_details(self):\n",
    "        return f\"This {self.engine_type} vehicle has {self.wheels} wheels and gives a mileage of {self.mileage}\""
   ]
  },
  {
   "cell_type": "code",
   "execution_count": 97,
   "id": "281973e2",
   "metadata": {},
   "outputs": [
    {
     "name": "stdout",
     "output_type": "stream",
     "text": [
      "Inside Vehicle class\n"
     ]
    }
   ],
   "source": [
    "v1 = Vehicle('P', 50, 2)"
   ]
  },
  {
   "cell_type": "code",
   "execution_count": 99,
   "id": "5765d46f",
   "metadata": {},
   "outputs": [
    {
     "ename": "TypeError",
     "evalue": "Vehicle.get_details() missing 1 required positional argument: 'self'",
     "output_type": "error",
     "traceback": [
      "\u001b[1;31m---------------------------------------------------------------------------\u001b[0m",
      "\u001b[1;31mTypeError\u001b[0m                                 Traceback (most recent call last)",
      "Cell \u001b[1;32mIn[99], line 1\u001b[0m\n\u001b[1;32m----> 1\u001b[0m Vehicle\u001b[38;5;241m.\u001b[39mget_details()\n",
      "\u001b[1;31mTypeError\u001b[0m: Vehicle.get_details() missing 1 required positional argument: 'self'"
     ]
    }
   ],
   "source": [
    "Vehicle.get_details()"
   ]
  },
  {
   "cell_type": "code",
   "execution_count": 100,
   "id": "144383b3",
   "metadata": {},
   "outputs": [
    {
     "data": {
      "text/plain": [
       "'This P vehicle has 2 wheels and gives a mileage of 50'"
      ]
     },
     "execution_count": 100,
     "metadata": {},
     "output_type": "execute_result"
    }
   ],
   "source": [
    "v1.get_details()"
   ]
  },
  {
   "cell_type": "code",
   "execution_count": 101,
   "id": "94420cc1",
   "metadata": {},
   "outputs": [
    {
     "data": {
      "text/plain": [
       "'This P vehicle has 2 wheels and gives a mileage of 50'"
      ]
     },
     "execution_count": 101,
     "metadata": {},
     "output_type": "execute_result"
    }
   ],
   "source": [
    "Vehicle.get_details(v1)"
   ]
  },
  {
   "cell_type": "code",
   "execution_count": null,
   "id": "0db8194c",
   "metadata": {},
   "outputs": [],
   "source": []
  },
  {
   "cell_type": "code",
   "execution_count": 102,
   "id": "819c5c46",
   "metadata": {},
   "outputs": [],
   "source": [
    "class Car(Vehicle):\n",
    "    def __init__(self, seats, transmission):\n",
    "        print(\"Inside Car class\")\n",
    "        self.seats = seats\n",
    "        self.transmission = transmission\n",
    "        Vehicle.__init__(self, 'Petrol', 20, 4)"
   ]
  },
  {
   "cell_type": "code",
   "execution_count": 103,
   "id": "fdbabc37",
   "metadata": {},
   "outputs": [
    {
     "name": "stdout",
     "output_type": "stream",
     "text": [
      "Inside Car class\n",
      "Inside Vehicle class\n"
     ]
    }
   ],
   "source": [
    "c1 = Car(5, 'Auto')"
   ]
  },
  {
   "cell_type": "code",
   "execution_count": 104,
   "id": "f757a9d7",
   "metadata": {},
   "outputs": [
    {
     "data": {
      "text/plain": [
       "'This Petrol vehicle has 4 wheels and gives a mileage of 20'"
      ]
     },
     "execution_count": 104,
     "metadata": {},
     "output_type": "execute_result"
    }
   ],
   "source": [
    "c1.get_details()"
   ]
  },
  {
   "cell_type": "code",
   "execution_count": null,
   "id": "63c39017",
   "metadata": {},
   "outputs": [],
   "source": []
  },
  {
   "cell_type": "code",
   "execution_count": 105,
   "id": "37816c21",
   "metadata": {},
   "outputs": [],
   "source": [
    "class Car(Vehicle):\n",
    "    def __init__(self, seats, transmission, engine, mileage, wheels):\n",
    "        print(\"Inside Car class\")\n",
    "        self.seats = seats\n",
    "        self.transmission = transmission\n",
    "        Vehicle.__init__(self, engine, mileage, wheels)"
   ]
  },
  {
   "cell_type": "code",
   "execution_count": 106,
   "id": "7e1cde96",
   "metadata": {},
   "outputs": [
    {
     "ename": "TypeError",
     "evalue": "Car.__init__() missing 3 required positional arguments: 'engine', 'mileage', and 'wheels'",
     "output_type": "error",
     "traceback": [
      "\u001b[1;31m---------------------------------------------------------------------------\u001b[0m",
      "\u001b[1;31mTypeError\u001b[0m                                 Traceback (most recent call last)",
      "Cell \u001b[1;32mIn[106], line 1\u001b[0m\n\u001b[1;32m----> 1\u001b[0m c1 \u001b[38;5;241m=\u001b[39m Car(\u001b[38;5;241m5\u001b[39m, \u001b[38;5;124m'\u001b[39m\u001b[38;5;124mAuto\u001b[39m\u001b[38;5;124m'\u001b[39m)\n",
      "\u001b[1;31mTypeError\u001b[0m: Car.__init__() missing 3 required positional arguments: 'engine', 'mileage', and 'wheels'"
     ]
    }
   ],
   "source": [
    "c1 = Car(5, 'Auto')"
   ]
  },
  {
   "cell_type": "code",
   "execution_count": 107,
   "id": "ba184182",
   "metadata": {},
   "outputs": [
    {
     "name": "stdout",
     "output_type": "stream",
     "text": [
      "Inside Car class\n",
      "Inside Vehicle class\n"
     ]
    }
   ],
   "source": [
    "c1 = Car(5, 'Auto', 'Petrol', 15, 5)"
   ]
  },
  {
   "cell_type": "code",
   "execution_count": 108,
   "id": "9edc72a4",
   "metadata": {},
   "outputs": [
    {
     "data": {
      "text/plain": [
       "'This Petrol vehicle has 5 wheels and gives a mileage of 15'"
      ]
     },
     "execution_count": 108,
     "metadata": {},
     "output_type": "execute_result"
    }
   ],
   "source": [
    "c1.get_details()"
   ]
  },
  {
   "cell_type": "code",
   "execution_count": 110,
   "id": "1d4f4d8f",
   "metadata": {},
   "outputs": [
    {
     "data": {
      "text/plain": [
       "'Petrol'"
      ]
     },
     "execution_count": 110,
     "metadata": {},
     "output_type": "execute_result"
    }
   ],
   "source": [
    "c1.engine_type"
   ]
  },
  {
   "cell_type": "code",
   "execution_count": 111,
   "id": "a5bb8a78",
   "metadata": {},
   "outputs": [
    {
     "data": {
      "text/plain": [
       "'ABC Motors'"
      ]
     },
     "execution_count": 111,
     "metadata": {},
     "output_type": "execute_result"
    }
   ],
   "source": [
    "c1.company"
   ]
  },
  {
   "cell_type": "code",
   "execution_count": null,
   "id": "286d9ba5",
   "metadata": {},
   "outputs": [],
   "source": []
  },
  {
   "cell_type": "code",
   "execution_count": 121,
   "id": "a01a5186",
   "metadata": {},
   "outputs": [],
   "source": [
    "class Vehicle:\n",
    "    company = 'ABC Motors'\n",
    "    \n",
    "    def __init__(self, engine_type, mileage, wheels):\n",
    "        print(\"Inside Vehicle\")\n",
    "        self.engine_type = engine_type\n",
    "        self._mileage = mileage\n",
    "        self.wheels = wheels\n",
    "        \n",
    "    def get_details(self):\n",
    "        return f\"This {self.engine_type} vehicle has {self.wheels} wheels and gives a mileage of {self._mileage}\""
   ]
  },
  {
   "cell_type": "code",
   "execution_count": 122,
   "id": "9c6d76d5",
   "metadata": {},
   "outputs": [],
   "source": [
    "class Car(Vehicle):\n",
    "    def __init__(self, seats, transmission, engine, mileage, wheels):\n",
    "        print(\"Inside Car class\")\n",
    "        self.seats = seats\n",
    "        self.transmission = transmission\n",
    "        Vehicle.__init__(self, engine, mileage, wheels)\n",
    "        print(self._mileage)"
   ]
  },
  {
   "cell_type": "code",
   "execution_count": 123,
   "id": "c70511e9",
   "metadata": {},
   "outputs": [
    {
     "name": "stdout",
     "output_type": "stream",
     "text": [
      "Inside Car class\n",
      "Inside Vehicle\n",
      "15\n"
     ]
    }
   ],
   "source": [
    "c1 = Car(5, 'Auto', 'Petrol', 15, 5)"
   ]
  },
  {
   "cell_type": "code",
   "execution_count": null,
   "id": "e5440009",
   "metadata": {},
   "outputs": [],
   "source": []
  },
  {
   "cell_type": "code",
   "execution_count": 124,
   "id": "79445e1d",
   "metadata": {},
   "outputs": [],
   "source": [
    "class Vehicle:\n",
    "    company = 'ABC Motors'\n",
    "    \n",
    "    def __init__(self, engine_type, mileage, wheels):\n",
    "        print(\"Inside Vehicle\")\n",
    "        self.engine_type = engine_type\n",
    "        self._mileage = mileage\n",
    "        self.wheels = wheels\n",
    "        self.__secret_val = 100\n",
    "        \n",
    "    def get_details(self):\n",
    "        return f\"This {self.engine_type} vehicle has {self.wheels} wheels and gives a mileage of {self._mileage}\""
   ]
  },
  {
   "cell_type": "code",
   "execution_count": 125,
   "id": "079ed40b",
   "metadata": {},
   "outputs": [],
   "source": [
    "class Car(Vehicle):\n",
    "    def __init__(self, seats, transmission, engine, mileage, wheels):\n",
    "        print(\"Inside Car class\")\n",
    "        self.seats = seats\n",
    "        self.transmission = transmission\n",
    "        Vehicle.__init__(self, engine, mileage, wheels)\n",
    "        print(self._mileage)\n",
    "        print(self.__secret_val)"
   ]
  },
  {
   "cell_type": "code",
   "execution_count": 126,
   "id": "3822ffda",
   "metadata": {},
   "outputs": [
    {
     "name": "stdout",
     "output_type": "stream",
     "text": [
      "Inside Car class\n",
      "Inside Vehicle\n",
      "15\n"
     ]
    },
    {
     "ename": "AttributeError",
     "evalue": "'Car' object has no attribute '_Car__secret_val'",
     "output_type": "error",
     "traceback": [
      "\u001b[1;31m---------------------------------------------------------------------------\u001b[0m",
      "\u001b[1;31mAttributeError\u001b[0m                            Traceback (most recent call last)",
      "Cell \u001b[1;32mIn[126], line 1\u001b[0m\n\u001b[1;32m----> 1\u001b[0m c1 \u001b[38;5;241m=\u001b[39m Car(\u001b[38;5;241m5\u001b[39m, \u001b[38;5;124m'\u001b[39m\u001b[38;5;124mAuto\u001b[39m\u001b[38;5;124m'\u001b[39m, \u001b[38;5;124m'\u001b[39m\u001b[38;5;124mPetrol\u001b[39m\u001b[38;5;124m'\u001b[39m, \u001b[38;5;241m15\u001b[39m, \u001b[38;5;241m5\u001b[39m)\n",
      "Cell \u001b[1;32mIn[125], line 8\u001b[0m, in \u001b[0;36mCar.__init__\u001b[1;34m(self, seats, transmission, engine, mileage, wheels)\u001b[0m\n\u001b[0;32m      6\u001b[0m Vehicle\u001b[38;5;241m.\u001b[39m\u001b[38;5;21m__init__\u001b[39m(\u001b[38;5;28mself\u001b[39m, engine, mileage, wheels)\n\u001b[0;32m      7\u001b[0m \u001b[38;5;28mprint\u001b[39m(\u001b[38;5;28mself\u001b[39m\u001b[38;5;241m.\u001b[39m_mileage)\n\u001b[1;32m----> 8\u001b[0m \u001b[38;5;28mprint\u001b[39m(\u001b[38;5;28mself\u001b[39m\u001b[38;5;241m.\u001b[39m__secret_val)\n",
      "\u001b[1;31mAttributeError\u001b[0m: 'Car' object has no attribute '_Car__secret_val'"
     ]
    }
   ],
   "source": [
    "c1 = Car(5, 'Auto', 'Petrol', 15, 5)"
   ]
  },
  {
   "cell_type": "code",
   "execution_count": null,
   "id": "2d783cf1",
   "metadata": {},
   "outputs": [],
   "source": []
  },
  {
   "cell_type": "code",
   "execution_count": 127,
   "id": "212c6f53",
   "metadata": {},
   "outputs": [],
   "source": [
    "class Car(Vehicle):\n",
    "    def __init__(self, seats, transmission, engine, mileage, wheels):\n",
    "        print(\"Inside Car class\")\n",
    "        self.seats = seats\n",
    "        self.transmission = transmission\n",
    "        Vehicle.__init__(self, engine, mileage, wheels)\n",
    "        print(self._mileage)\n"
   ]
  },
  {
   "cell_type": "code",
   "execution_count": 128,
   "id": "ea5f0757",
   "metadata": {},
   "outputs": [
    {
     "name": "stdout",
     "output_type": "stream",
     "text": [
      "Inside Car class\n",
      "Inside Vehicle\n",
      "15\n",
      "Inside Car class\n",
      "Inside Vehicle\n",
      "25\n"
     ]
    }
   ],
   "source": [
    "c1 = Car(5, 'Auto', 'Petrol', 15, 4)\n",
    "c2 = Car(7, 'Manual', 'D', 25, 4)"
   ]
  },
  {
   "cell_type": "code",
   "execution_count": 129,
   "id": "ff7541c2",
   "metadata": {},
   "outputs": [
    {
     "data": {
      "text/plain": [
       "'This Petrol vehicle has 4 wheels and gives a mileage of 15'"
      ]
     },
     "execution_count": 129,
     "metadata": {},
     "output_type": "execute_result"
    }
   ],
   "source": [
    "c1.get_details()"
   ]
  },
  {
   "cell_type": "code",
   "execution_count": 130,
   "id": "3682bb4f",
   "metadata": {},
   "outputs": [
    {
     "data": {
      "text/plain": [
       "'This D vehicle has 4 wheels and gives a mileage of 25'"
      ]
     },
     "execution_count": 130,
     "metadata": {},
     "output_type": "execute_result"
    }
   ],
   "source": [
    "c2.get_details()"
   ]
  },
  {
   "cell_type": "code",
   "execution_count": 132,
   "id": "a22956ea",
   "metadata": {},
   "outputs": [
    {
     "name": "stdout",
     "output_type": "stream",
     "text": [
      "Inside Car class\n",
      "Inside Vehicle\n",
      "20\n"
     ]
    }
   ],
   "source": [
    "c3 = Car(4, 'Manual', 'CNG', 20, 4)"
   ]
  },
  {
   "cell_type": "code",
   "execution_count": 133,
   "id": "d214aa69",
   "metadata": {},
   "outputs": [
    {
     "data": {
      "text/plain": [
       "'This CNG vehicle has 4 wheels and gives a mileage of 20'"
      ]
     },
     "execution_count": 133,
     "metadata": {},
     "output_type": "execute_result"
    }
   ],
   "source": [
    "c3.get_details()"
   ]
  },
  {
   "cell_type": "code",
   "execution_count": 135,
   "id": "53549227",
   "metadata": {},
   "outputs": [
    {
     "name": "stdout",
     "output_type": "stream",
     "text": [
      "{'seats': 5, 'transmission': 'Auto', 'engine_type': 'Petrol', '_mileage': 15, 'wheels': 4, '_Vehicle__secret_val': 100}\n",
      "{'seats': 7, 'transmission': 'Manual', 'engine_type': 'D', '_mileage': 25, 'wheels': 4, '_Vehicle__secret_val': 100}\n",
      "{'seats': 4, 'transmission': 'Manual', 'engine_type': 'CNG', '_mileage': 20, 'wheels': 4, '_Vehicle__secret_val': 100}\n"
     ]
    }
   ],
   "source": [
    "print(c1.__dict__)\n",
    "print(c2.__dict__)\n",
    "print(c3.__dict__)"
   ]
  },
  {
   "cell_type": "code",
   "execution_count": 136,
   "id": "b875179c",
   "metadata": {},
   "outputs": [
    {
     "name": "stdout",
     "output_type": "stream",
     "text": [
      "Help on class Car in module __main__:\n",
      "\n",
      "class Car(Vehicle)\n",
      " |  Car(seats, transmission, engine, mileage, wheels)\n",
      " |  \n",
      " |  Method resolution order:\n",
      " |      Car\n",
      " |      Vehicle\n",
      " |      builtins.object\n",
      " |  \n",
      " |  Methods defined here:\n",
      " |  \n",
      " |  __init__(self, seats, transmission, engine, mileage, wheels)\n",
      " |      Initialize self.  See help(type(self)) for accurate signature.\n",
      " |  \n",
      " |  ----------------------------------------------------------------------\n",
      " |  Methods inherited from Vehicle:\n",
      " |  \n",
      " |  get_details(self)\n",
      " |  \n",
      " |  ----------------------------------------------------------------------\n",
      " |  Data descriptors inherited from Vehicle:\n",
      " |  \n",
      " |  __dict__\n",
      " |      dictionary for instance variables (if defined)\n",
      " |  \n",
      " |  __weakref__\n",
      " |      list of weak references to the object (if defined)\n",
      " |  \n",
      " |  ----------------------------------------------------------------------\n",
      " |  Data and other attributes inherited from Vehicle:\n",
      " |  \n",
      " |  company = 'ABC Motors'\n",
      "\n"
     ]
    }
   ],
   "source": [
    "help(Car)"
   ]
  },
  {
   "cell_type": "code",
   "execution_count": 137,
   "id": "30bc03fb",
   "metadata": {},
   "outputs": [
    {
     "name": "stdout",
     "output_type": "stream",
     "text": [
      "Help on class object in module builtins:\n",
      "\n",
      "class object\n",
      " |  The base class of the class hierarchy.\n",
      " |  \n",
      " |  When called, it accepts no arguments and returns a new featureless\n",
      " |  instance that has no instance attributes and cannot be given any.\n",
      " |  \n",
      " |  Built-in subclasses:\n",
      " |      anext_awaitable\n",
      " |      async_generator\n",
      " |      async_generator_asend\n",
      " |      async_generator_athrow\n",
      " |      ... and 107 other subclasses\n",
      " |  \n",
      " |  Methods defined here:\n",
      " |  \n",
      " |  __delattr__(self, name, /)\n",
      " |      Implement delattr(self, name).\n",
      " |  \n",
      " |  __dir__(self, /)\n",
      " |      Default dir() implementation.\n",
      " |  \n",
      " |  __eq__(self, value, /)\n",
      " |      Return self==value.\n",
      " |  \n",
      " |  __format__(self, format_spec, /)\n",
      " |      Default object formatter.\n",
      " |  \n",
      " |  __ge__(self, value, /)\n",
      " |      Return self>=value.\n",
      " |  \n",
      " |  __getattribute__(self, name, /)\n",
      " |      Return getattr(self, name).\n",
      " |  \n",
      " |  __getstate__(self, /)\n",
      " |      Helper for pickle.\n",
      " |  \n",
      " |  __gt__(self, value, /)\n",
      " |      Return self>value.\n",
      " |  \n",
      " |  __hash__(self, /)\n",
      " |      Return hash(self).\n",
      " |  \n",
      " |  __init__(self, /, *args, **kwargs)\n",
      " |      Initialize self.  See help(type(self)) for accurate signature.\n",
      " |  \n",
      " |  __le__(self, value, /)\n",
      " |      Return self<=value.\n",
      " |  \n",
      " |  __lt__(self, value, /)\n",
      " |      Return self<value.\n",
      " |  \n",
      " |  __ne__(self, value, /)\n",
      " |      Return self!=value.\n",
      " |  \n",
      " |  __reduce__(self, /)\n",
      " |      Helper for pickle.\n",
      " |  \n",
      " |  __reduce_ex__(self, protocol, /)\n",
      " |      Helper for pickle.\n",
      " |  \n",
      " |  __repr__(self, /)\n",
      " |      Return repr(self).\n",
      " |  \n",
      " |  __setattr__(self, name, value, /)\n",
      " |      Implement setattr(self, name, value).\n",
      " |  \n",
      " |  __sizeof__(self, /)\n",
      " |      Size of object in memory, in bytes.\n",
      " |  \n",
      " |  __str__(self, /)\n",
      " |      Return str(self).\n",
      " |  \n",
      " |  ----------------------------------------------------------------------\n",
      " |  Class methods defined here:\n",
      " |  \n",
      " |  __init_subclass__(...) from builtins.type\n",
      " |      This method is called when a class is subclassed.\n",
      " |      \n",
      " |      The default implementation does nothing. It may be\n",
      " |      overridden to extend subclasses.\n",
      " |  \n",
      " |  __subclasshook__(...) from builtins.type\n",
      " |      Abstract classes can override this to customize issubclass().\n",
      " |      \n",
      " |      This is invoked early on by abc.ABCMeta.__subclasscheck__().\n",
      " |      It should return True, False or NotImplemented.  If it returns\n",
      " |      NotImplemented, the normal algorithm is used.  Otherwise, it\n",
      " |      overrides the normal algorithm (and the outcome is cached).\n",
      " |  \n",
      " |  ----------------------------------------------------------------------\n",
      " |  Static methods defined here:\n",
      " |  \n",
      " |  __new__(*args, **kwargs) from builtins.type\n",
      " |      Create and return a new object.  See help(type) for accurate signature.\n",
      " |  \n",
      " |  ----------------------------------------------------------------------\n",
      " |  Data and other attributes defined here:\n",
      " |  \n",
      " |  __class__ = <class 'type'>\n",
      " |      type(object) -> the object's type\n",
      " |      type(name, bases, dict, **kwds) -> a new type\n",
      "\n"
     ]
    }
   ],
   "source": [
    "help(object)"
   ]
  },
  {
   "cell_type": "code",
   "execution_count": 138,
   "id": "ccea7bea",
   "metadata": {},
   "outputs": [
    {
     "ename": "NameError",
     "evalue": "name 'self' is not defined",
     "output_type": "error",
     "traceback": [
      "\u001b[1;31m---------------------------------------------------------------------------\u001b[0m",
      "\u001b[1;31mNameError\u001b[0m                                 Traceback (most recent call last)",
      "Cell \u001b[1;32mIn[138], line 1\u001b[0m\n\u001b[1;32m----> 1\u001b[0m help(\u001b[38;5;28mtype\u001b[39m(\u001b[38;5;28mself\u001b[39m))\n",
      "\u001b[1;31mNameError\u001b[0m: name 'self' is not defined"
     ]
    }
   ],
   "source": [
    "help(type(self))"
   ]
  },
  {
   "cell_type": "code",
   "execution_count": null,
   "id": "c29371a8",
   "metadata": {},
   "outputs": [],
   "source": []
  },
  {
   "cell_type": "code",
   "execution_count": 140,
   "id": "5958b9e8",
   "metadata": {},
   "outputs": [],
   "source": [
    "# Single inheritance\n",
    "# When a class inherits from one class only"
   ]
  },
  {
   "cell_type": "code",
   "execution_count": null,
   "id": "bbb84647",
   "metadata": {},
   "outputs": [],
   "source": []
  },
  {
   "cell_type": "code",
   "execution_count": 141,
   "id": "0870f77a",
   "metadata": {},
   "outputs": [],
   "source": [
    "# Multiple inheritance\n",
    "# A class inherting from 2 or more classes"
   ]
  },
  {
   "cell_type": "code",
   "execution_count": 143,
   "id": "6562d29f",
   "metadata": {},
   "outputs": [],
   "source": [
    "class Color:\n",
    "    def __init__(self, color):\n",
    "        print(\"Inside Color class\")\n",
    "        self.color = color\n",
    "        \n",
    "    def get_color(self):\n",
    "        return f\"In this world of so many colors, I am {self.color}\""
   ]
  },
  {
   "cell_type": "code",
   "execution_count": null,
   "id": "789313b6",
   "metadata": {},
   "outputs": [],
   "source": []
  },
  {
   "cell_type": "code",
   "execution_count": 144,
   "id": "bb030728",
   "metadata": {},
   "outputs": [],
   "source": [
    "class Car(Vehicle, Color):\n",
    "    def __init__(self, seats, transmission, engine, mileage, wheels, col):\n",
    "        print(\"Inside Car class\")\n",
    "        self.seats = seats\n",
    "        self.transmission = transmission\n",
    "        Vehicle.__init__(self, engine, mileage, wheels)\n",
    "        Color.__init__(self, col)"
   ]
  },
  {
   "cell_type": "code",
   "execution_count": 145,
   "id": "8d15280c",
   "metadata": {},
   "outputs": [
    {
     "name": "stdout",
     "output_type": "stream",
     "text": [
      "Inside Car class\n",
      "Inside Vehicle\n",
      "Inside Color class\n"
     ]
    }
   ],
   "source": [
    "c1 = Car(5, 'Manual', 'CNG', 20, 4, 'Black')"
   ]
  },
  {
   "cell_type": "code",
   "execution_count": 146,
   "id": "c6467f25",
   "metadata": {},
   "outputs": [
    {
     "data": {
      "text/plain": [
       "'In this world of so many colors, I am Black'"
      ]
     },
     "execution_count": 146,
     "metadata": {},
     "output_type": "execute_result"
    }
   ],
   "source": [
    "c1.get_color()"
   ]
  },
  {
   "cell_type": "code",
   "execution_count": 147,
   "id": "f184b544",
   "metadata": {},
   "outputs": [
    {
     "data": {
      "text/plain": [
       "'Black'"
      ]
     },
     "execution_count": 147,
     "metadata": {},
     "output_type": "execute_result"
    }
   ],
   "source": [
    "c1.color"
   ]
  },
  {
   "cell_type": "code",
   "execution_count": 148,
   "id": "f528e76b",
   "metadata": {},
   "outputs": [
    {
     "data": {
      "text/plain": [
       "{'seats': 5,\n",
       " 'transmission': 'Manual',\n",
       " 'engine_type': 'CNG',\n",
       " '_mileage': 20,\n",
       " 'wheels': 4,\n",
       " '_Vehicle__secret_val': 100,\n",
       " 'color': 'Black'}"
      ]
     },
     "execution_count": 148,
     "metadata": {},
     "output_type": "execute_result"
    }
   ],
   "source": [
    "c1.__dict__"
   ]
  },
  {
   "cell_type": "code",
   "execution_count": 149,
   "id": "29a31e40",
   "metadata": {},
   "outputs": [
    {
     "name": "stdout",
     "output_type": "stream",
     "text": [
      "Help on class Car in module __main__:\n",
      "\n",
      "class Car(Vehicle, Color)\n",
      " |  Car(seats, transmission, engine, mileage, wheels, col)\n",
      " |  \n",
      " |  Method resolution order:\n",
      " |      Car\n",
      " |      Vehicle\n",
      " |      Color\n",
      " |      builtins.object\n",
      " |  \n",
      " |  Methods defined here:\n",
      " |  \n",
      " |  __init__(self, seats, transmission, engine, mileage, wheels, col)\n",
      " |      Initialize self.  See help(type(self)) for accurate signature.\n",
      " |  \n",
      " |  ----------------------------------------------------------------------\n",
      " |  Methods inherited from Vehicle:\n",
      " |  \n",
      " |  get_details(self)\n",
      " |  \n",
      " |  ----------------------------------------------------------------------\n",
      " |  Data descriptors inherited from Vehicle:\n",
      " |  \n",
      " |  __dict__\n",
      " |      dictionary for instance variables (if defined)\n",
      " |  \n",
      " |  __weakref__\n",
      " |      list of weak references to the object (if defined)\n",
      " |  \n",
      " |  ----------------------------------------------------------------------\n",
      " |  Data and other attributes inherited from Vehicle:\n",
      " |  \n",
      " |  company = 'ABC Motors'\n",
      " |  \n",
      " |  ----------------------------------------------------------------------\n",
      " |  Methods inherited from Color:\n",
      " |  \n",
      " |  get_color(self)\n",
      "\n"
     ]
    }
   ],
   "source": [
    "help(Car)"
   ]
  },
  {
   "cell_type": "code",
   "execution_count": null,
   "id": "86c7a189",
   "metadata": {},
   "outputs": [],
   "source": []
  },
  {
   "cell_type": "code",
   "execution_count": 150,
   "id": "c2ca2e65",
   "metadata": {},
   "outputs": [],
   "source": [
    "# Multilevel inheritance"
   ]
  },
  {
   "cell_type": "code",
   "execution_count": 151,
   "id": "f44f1f25",
   "metadata": {},
   "outputs": [],
   "source": [
    "# A -> B -> C"
   ]
  },
  {
   "cell_type": "code",
   "execution_count": null,
   "id": "839b20b0",
   "metadata": {},
   "outputs": [],
   "source": []
  }
 ],
 "metadata": {
  "kernelspec": {
   "display_name": "Python 3 (ipykernel)",
   "language": "python",
   "name": "python3"
  },
  "language_info": {
   "codemirror_mode": {
    "name": "ipython",
    "version": 3
   },
   "file_extension": ".py",
   "mimetype": "text/x-python",
   "name": "python",
   "nbconvert_exporter": "python",
   "pygments_lexer": "ipython3",
   "version": "3.11.4"
  }
 },
 "nbformat": 4,
 "nbformat_minor": 5
}
