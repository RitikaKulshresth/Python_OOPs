{
 "cells": [
  {
   "cell_type": "code",
   "execution_count": 1,
   "id": "82cb87b3",
   "metadata": {},
   "outputs": [],
   "source": [
    "class Student:\n",
    "    '''\n",
    "    This class contains information about the students\n",
    "    Specs - roll number, name, age, gender, grade, class/standard, ...\n",
    "    Functions - give exam, learn, study, play, attend classes, do homework, extra curricular, ..\n",
    "    '''\n",
    "    college = 'ABC college'\n",
    "    departments = ['Arts', 'Commerce', 'Science']\n",
    "    \n",
    "    def __init__(self, rnumber, sname):\n",
    "        print(\"Initializer is called!!\")\n",
    "        print(self)\n",
    "        self.roll = rnumber\n",
    "        self.name = sname\n",
    "        \n",
    "    def studying(self, hour):\n",
    "        print(self)\n",
    "        return f'The student studies {hour} hours a day'\n",
    "    \n",
    "    @classmethod\n",
    "    def get_college(cls):\n",
    "        return f\"Welcome to the college!\""
   ]
  },
  {
   "cell_type": "code",
   "execution_count": 2,
   "id": "ad504342",
   "metadata": {},
   "outputs": [
    {
     "name": "stdout",
     "output_type": "stream",
     "text": [
      "Initializer is called!!\n",
      "<__main__.Student object at 0x000001A806953710>\n",
      "Initializer is called!!\n",
      "<__main__.Student object at 0x000001A8069D4950>\n"
     ]
    }
   ],
   "source": [
    "s1 = Student(1001, 'Mark')\n",
    "s2 = Student(1002, 'Carol')"
   ]
  },
  {
   "cell_type": "code",
   "execution_count": 3,
   "id": "192e9c71",
   "metadata": {},
   "outputs": [
    {
     "data": {
      "text/plain": [
       "'Welcome to the college!'"
      ]
     },
     "execution_count": 3,
     "metadata": {},
     "output_type": "execute_result"
    }
   ],
   "source": [
    "s1.get_college()"
   ]
  },
  {
   "cell_type": "code",
   "execution_count": 4,
   "id": "ac248ce6",
   "metadata": {},
   "outputs": [
    {
     "data": {
      "text/plain": [
       "'Welcome to the college!'"
      ]
     },
     "execution_count": 4,
     "metadata": {},
     "output_type": "execute_result"
    }
   ],
   "source": [
    "s2.get_college()"
   ]
  },
  {
   "cell_type": "code",
   "execution_count": 5,
   "id": "d00a417f",
   "metadata": {},
   "outputs": [],
   "source": [
    "class Student:\n",
    "    '''\n",
    "    This class contains information about the students\n",
    "    Specs - roll number, name, age, gender, grade, class/standard, ...\n",
    "    Functions - give exam, learn, study, play, attend classes, do homework, extra curricular, ..\n",
    "    '''\n",
    "    college = 'ABC college'\n",
    "    departments = ['Arts', 'Commerce', 'Science']\n",
    "    \n",
    "    def __init__(self, rnumber, sname):\n",
    "        print(\"Initializer is called!!\")\n",
    "        print(self)\n",
    "        self.roll = rnumber\n",
    "        self.name = sname\n",
    "        \n",
    "    def studying(self, hour):\n",
    "        print(self)\n",
    "        return f'The student studies {hour} hours a day'\n",
    "    \n",
    "    @classmethod\n",
    "    def get_college(cls):\n",
    "        print(cls)\n",
    "        return f\"Welcome to the college!\""
   ]
  },
  {
   "cell_type": "code",
   "execution_count": 6,
   "id": "b9e48a43",
   "metadata": {},
   "outputs": [
    {
     "name": "stdout",
     "output_type": "stream",
     "text": [
      "Initializer is called!!\n",
      "<__main__.Student object at 0x000001A806A1A7D0>\n",
      "Initializer is called!!\n",
      "<__main__.Student object at 0x000001A806A1B250>\n"
     ]
    }
   ],
   "source": [
    "s1 = Student(1001, 'Mark')\n",
    "s2 = Student(1002, 'Carol')"
   ]
  },
  {
   "cell_type": "code",
   "execution_count": 7,
   "id": "3a3de89b",
   "metadata": {},
   "outputs": [
    {
     "name": "stdout",
     "output_type": "stream",
     "text": [
      "<__main__.Student object at 0x000001A806A1A7D0>\n"
     ]
    }
   ],
   "source": [
    "print(s1)"
   ]
  },
  {
   "cell_type": "code",
   "execution_count": 8,
   "id": "0c552624",
   "metadata": {},
   "outputs": [
    {
     "name": "stdout",
     "output_type": "stream",
     "text": [
      "<class '__main__.Student'>\n"
     ]
    }
   ],
   "source": [
    "print(Student)"
   ]
  },
  {
   "cell_type": "code",
   "execution_count": 9,
   "id": "b30b20d7",
   "metadata": {},
   "outputs": [
    {
     "name": "stdout",
     "output_type": "stream",
     "text": [
      "<__main__.Student object at 0x000001A806A1A7D0>\n"
     ]
    },
    {
     "data": {
      "text/plain": [
       "'The student studies 2 hours a day'"
      ]
     },
     "execution_count": 9,
     "metadata": {},
     "output_type": "execute_result"
    }
   ],
   "source": [
    "s1.studying(2)"
   ]
  },
  {
   "cell_type": "code",
   "execution_count": 10,
   "id": "a2ce3bc3",
   "metadata": {},
   "outputs": [
    {
     "name": "stdout",
     "output_type": "stream",
     "text": [
      "<class '__main__.Student'>\n"
     ]
    },
    {
     "data": {
      "text/plain": [
       "'Welcome to the college!'"
      ]
     },
     "execution_count": 10,
     "metadata": {},
     "output_type": "execute_result"
    }
   ],
   "source": [
    "s1.get_college()"
   ]
  },
  {
   "cell_type": "code",
   "execution_count": 11,
   "id": "41851461",
   "metadata": {},
   "outputs": [
    {
     "name": "stdout",
     "output_type": "stream",
     "text": [
      "<class 'method'>\n"
     ]
    }
   ],
   "source": [
    "print(type(s1.__init__))"
   ]
  },
  {
   "cell_type": "code",
   "execution_count": null,
   "id": "1df97ff9",
   "metadata": {},
   "outputs": [],
   "source": []
  },
  {
   "cell_type": "code",
   "execution_count": 12,
   "id": "4dccbee4",
   "metadata": {},
   "outputs": [
    {
     "name": "stdout",
     "output_type": "stream",
     "text": [
      "ABC college\n"
     ]
    }
   ],
   "source": [
    "print(s1.college)"
   ]
  },
  {
   "cell_type": "code",
   "execution_count": 13,
   "id": "b32db655",
   "metadata": {},
   "outputs": [
    {
     "name": "stdout",
     "output_type": "stream",
     "text": [
      "ABC college\n"
     ]
    }
   ],
   "source": [
    "print(Student.college)"
   ]
  },
  {
   "cell_type": "code",
   "execution_count": 14,
   "id": "2ec516da",
   "metadata": {},
   "outputs": [],
   "source": [
    "class Student:\n",
    "    '''\n",
    "    This class contains information about the students\n",
    "    Specs - roll number, name, age, gender, grade, class/standard, ...\n",
    "    Functions - give exam, learn, study, play, attend classes, do homework, extra curricular, ..\n",
    "    '''\n",
    "    college = 'ABC college'\n",
    "    departments = ['Arts', 'Commerce', 'Science']\n",
    "    \n",
    "    def __init__(self, rnumber, sname):\n",
    "        print(\"Initializer is called!!\")\n",
    "        print(self)\n",
    "        self.roll = rnumber\n",
    "        self.name = sname\n",
    "        \n",
    "    def studying(self, hour):\n",
    "        print(self)\n",
    "        return f'The student studies {hour} hours a day in {Student.college}'\n",
    "    \n",
    "    @classmethod\n",
    "    def get_college(cls):\n",
    "        print(cls)\n",
    "        return f\"Welcome to the college!\""
   ]
  },
  {
   "cell_type": "code",
   "execution_count": 16,
   "id": "4d0a9b8a",
   "metadata": {},
   "outputs": [
    {
     "name": "stdout",
     "output_type": "stream",
     "text": [
      "Initializer is called!!\n",
      "<__main__.Student object at 0x000001A8069DDE90>\n"
     ]
    }
   ],
   "source": [
    "s1 = Student(1001, 'Mark')"
   ]
  },
  {
   "cell_type": "code",
   "execution_count": 17,
   "id": "546c2361",
   "metadata": {},
   "outputs": [
    {
     "name": "stdout",
     "output_type": "stream",
     "text": [
      "<__main__.Student object at 0x000001A8069DDE90>\n"
     ]
    },
    {
     "data": {
      "text/plain": [
       "'The student studies 2 hours a day in ABC college'"
      ]
     },
     "execution_count": 17,
     "metadata": {},
     "output_type": "execute_result"
    }
   ],
   "source": [
    "s1.studying(2)"
   ]
  },
  {
   "cell_type": "code",
   "execution_count": 18,
   "id": "c53bacfe",
   "metadata": {},
   "outputs": [],
   "source": [
    "class Student:\n",
    "    '''\n",
    "    This class contains information about the students\n",
    "    Specs - roll number, name, age, gender, grade, class/standard, ...\n",
    "    Functions - give exam, learn, study, play, attend classes, do homework, extra curricular, ..\n",
    "    '''\n",
    "    college = 'ABC college'\n",
    "    departments = ['Arts', 'Commerce', 'Science']\n",
    "    \n",
    "    def __init__(self, rnumber, sname):\n",
    "        print(\"Initializer is called!!\")\n",
    "        print(self)\n",
    "        self.roll = rnumber\n",
    "        self.name = sname\n",
    "        \n",
    "    def studying(self, hour):\n",
    "        print(self)\n",
    "        return f'The student studies {hour} hours a day'\n",
    "    \n",
    "    @classmethod\n",
    "    def get_college(cls):\n",
    "        print(cls)\n",
    "        return f\"Welcome to {cls.college}!\""
   ]
  },
  {
   "cell_type": "code",
   "execution_count": 19,
   "id": "3d0d8ffb",
   "metadata": {},
   "outputs": [
    {
     "name": "stdout",
     "output_type": "stream",
     "text": [
      "Initializer is called!!\n",
      "<__main__.Student object at 0x000001A806A5DC90>\n"
     ]
    }
   ],
   "source": [
    "s1 = Student(1001, 'Mark')"
   ]
  },
  {
   "cell_type": "code",
   "execution_count": 20,
   "id": "18608990",
   "metadata": {},
   "outputs": [
    {
     "name": "stdout",
     "output_type": "stream",
     "text": [
      "<class '__main__.Student'>\n"
     ]
    },
    {
     "data": {
      "text/plain": [
       "'Welcome to ABC college!'"
      ]
     },
     "execution_count": 20,
     "metadata": {},
     "output_type": "execute_result"
    }
   ],
   "source": [
    "s1.get_college()"
   ]
  },
  {
   "cell_type": "code",
   "execution_count": 21,
   "id": "d15c904d",
   "metadata": {},
   "outputs": [],
   "source": [
    "class Student:\n",
    "    '''\n",
    "    This class contains information about the students\n",
    "    Specs - roll number, name, age, gender, grade, class/standard, ...\n",
    "    Functions - give exam, learn, study, play, attend classes, do homework, extra curricular, ..\n",
    "    '''\n",
    "    college = 'ABC college'\n",
    "    departments = ['Arts', 'Commerce', 'Science']\n",
    "    \n",
    "    def __init__(self, rnumber, sname):\n",
    "        print(\"Initializer is called!!\")\n",
    "        print(self)\n",
    "        self.roll = rnumber\n",
    "        self.name = sname\n",
    "        \n",
    "    def studying(self, hour):\n",
    "        print(self)\n",
    "        return f'The student studies {hour} hours a day'\n",
    "    \n",
    "    @classmethod\n",
    "    def get_college(cls):\n",
    "        print(cls)\n",
    "        return f\"Welcome to {cls.college}!\"\n",
    "    \n",
    "    @classmethod\n",
    "    def get_departments(cls):\n",
    "        for depart in cls.departments:\n",
    "            print(depart)"
   ]
  },
  {
   "cell_type": "code",
   "execution_count": 22,
   "id": "abf6fbbb",
   "metadata": {},
   "outputs": [
    {
     "name": "stdout",
     "output_type": "stream",
     "text": [
      "Initializer is called!!\n",
      "<__main__.Student object at 0x000001A806B07550>\n"
     ]
    }
   ],
   "source": [
    "s1 = Student(1001, 'Mark')"
   ]
  },
  {
   "cell_type": "code",
   "execution_count": 23,
   "id": "8e3970d3",
   "metadata": {},
   "outputs": [
    {
     "name": "stdout",
     "output_type": "stream",
     "text": [
      "Arts\n",
      "Commerce\n",
      "Science\n"
     ]
    }
   ],
   "source": [
    "s1.get_departments()"
   ]
  },
  {
   "cell_type": "code",
   "execution_count": null,
   "id": "b89d9811",
   "metadata": {},
   "outputs": [],
   "source": []
  },
  {
   "cell_type": "code",
   "execution_count": 24,
   "id": "e3e67aea",
   "metadata": {},
   "outputs": [],
   "source": [
    "class Student:\n",
    "    '''\n",
    "    This class contains information about the students\n",
    "    Specs - roll number, name, age, gender, grade, class/standard, ...\n",
    "    Functions - give exam, learn, study, play, attend classes, do homework, extra curricular, ..\n",
    "    '''\n",
    "    college = 'ABC college'\n",
    "    departments = ['Arts', 'Commerce', 'Science']\n",
    "    \n",
    "    def __init__(self, rnumber, sname):\n",
    "        print(\"Initializer is called!!\")\n",
    "        print(self)\n",
    "        self.roll = rnumber\n",
    "        self.name = sname\n",
    "        Student.departments.append('New Department')\n",
    "        \n",
    "    def studying(self, hour):\n",
    "        print(self)\n",
    "        return f'The student studies {hour} hours a day in {self.college}'\n",
    "    \n",
    "    @classmethod\n",
    "    def get_college(cls):\n",
    "        print(cls)\n",
    "        return f\"Welcome to {cls.college}!\"\n",
    "    \n",
    "    @classmethod\n",
    "    def get_departments(cls):\n",
    "        for depart in cls.departments:\n",
    "            print(depart)"
   ]
  },
  {
   "cell_type": "code",
   "execution_count": 25,
   "id": "59f78710",
   "metadata": {},
   "outputs": [
    {
     "name": "stdout",
     "output_type": "stream",
     "text": [
      "Initializer is called!!\n",
      "<__main__.Student object at 0x000001A806A85C10>\n"
     ]
    }
   ],
   "source": [
    "s1 = Student(1001, 'Mark')"
   ]
  },
  {
   "cell_type": "code",
   "execution_count": 26,
   "id": "fe3b92da",
   "metadata": {},
   "outputs": [
    {
     "name": "stdout",
     "output_type": "stream",
     "text": [
      "['Arts', 'Commerce', 'Science', 'New Department']\n"
     ]
    }
   ],
   "source": [
    "print(Student.departments)"
   ]
  },
  {
   "cell_type": "code",
   "execution_count": 27,
   "id": "1718e0ed",
   "metadata": {},
   "outputs": [
    {
     "name": "stdout",
     "output_type": "stream",
     "text": [
      "<__main__.Student object at 0x000001A806A85C10>\n"
     ]
    },
    {
     "data": {
      "text/plain": [
       "'The student studies 1 hours a day in ABC college'"
      ]
     },
     "execution_count": 27,
     "metadata": {},
     "output_type": "execute_result"
    }
   ],
   "source": [
    "s1.studying(1)"
   ]
  },
  {
   "cell_type": "code",
   "execution_count": 28,
   "id": "d4a64312",
   "metadata": {},
   "outputs": [
    {
     "name": "stdout",
     "output_type": "stream",
     "text": [
      "Arts\n",
      "Commerce\n",
      "Science\n",
      "New Department\n"
     ]
    }
   ],
   "source": [
    "s1.get_departments()"
   ]
  },
  {
   "cell_type": "code",
   "execution_count": null,
   "id": "35fb498b",
   "metadata": {},
   "outputs": [],
   "source": []
  },
  {
   "cell_type": "code",
   "execution_count": 29,
   "id": "70ffd32a",
   "metadata": {},
   "outputs": [],
   "source": [
    "# Static methods"
   ]
  },
  {
   "cell_type": "code",
   "execution_count": 30,
   "id": "2187497c",
   "metadata": {},
   "outputs": [],
   "source": [
    "# method defined inside the class which is NOT bound to anything (neither object nor class)"
   ]
  },
  {
   "cell_type": "code",
   "execution_count": 31,
   "id": "7f8dc562",
   "metadata": {},
   "outputs": [],
   "source": [
    "# TO create static method, we use staticmethod decorator"
   ]
  },
  {
   "cell_type": "code",
   "execution_count": 32,
   "id": "0569d6fb",
   "metadata": {},
   "outputs": [],
   "source": [
    "class Student:\n",
    "    '''\n",
    "    This class contains information about the students\n",
    "    Specs - roll number, name, age, gender, grade, class/standard, ...\n",
    "    Functions - give exam, learn, study, play, attend classes, do homework, extra curricular, ..\n",
    "    '''\n",
    "    college = 'ABC college'\n",
    "    departments = ['Arts', 'Commerce', 'Science']\n",
    "    \n",
    "    def __init__(self, rnumber, sname):\n",
    "        print(\"Initializer is called!!\")\n",
    "        print(self)\n",
    "        self.roll = rnumber\n",
    "        self.name = sname\n",
    "        Student.departments.append('New Department')\n",
    "        \n",
    "    def studying(self, hour):\n",
    "        print(self)\n",
    "        return f'The student studies {hour} hours a day in {self.college}'\n",
    "    \n",
    "    @classmethod\n",
    "    def get_college(cls):\n",
    "        print(cls)\n",
    "        return f\"Welcome to {cls.college}!\"\n",
    "    \n",
    "    @classmethod\n",
    "    def get_departments(cls):\n",
    "        for depart in cls.departments:\n",
    "            print(depart)\n",
    "            \n",
    "    @staticmethod\n",
    "    def greet():\n",
    "        print(\"Hello, have a nice day!!\")"
   ]
  },
  {
   "cell_type": "code",
   "execution_count": 33,
   "id": "dfdcdd2d",
   "metadata": {},
   "outputs": [
    {
     "name": "stdout",
     "output_type": "stream",
     "text": [
      "Initializer is called!!\n",
      "<__main__.Student object at 0x000001A806B39910>\n"
     ]
    }
   ],
   "source": [
    "s1 = Student(10001, 'Mark')"
   ]
  },
  {
   "cell_type": "code",
   "execution_count": 34,
   "id": "56fd7651",
   "metadata": {},
   "outputs": [
    {
     "name": "stdout",
     "output_type": "stream",
     "text": [
      "Hello, have a nice day!!\n"
     ]
    }
   ],
   "source": [
    "s1.greet()"
   ]
  },
  {
   "cell_type": "code",
   "execution_count": 35,
   "id": "a0a6f13d",
   "metadata": {},
   "outputs": [],
   "source": [
    "def greet():\n",
    "    print(\"Hello, have a nice day!!\")"
   ]
  },
  {
   "cell_type": "code",
   "execution_count": 36,
   "id": "54d5af7e",
   "metadata": {},
   "outputs": [
    {
     "name": "stdout",
     "output_type": "stream",
     "text": [
      "Hello, have a nice day!!\n"
     ]
    }
   ],
   "source": [
    "greet()"
   ]
  },
  {
   "cell_type": "code",
   "execution_count": null,
   "id": "fa8fb16a",
   "metadata": {},
   "outputs": [],
   "source": []
  },
  {
   "cell_type": "code",
   "execution_count": 37,
   "id": "0b425bb2",
   "metadata": {},
   "outputs": [
    {
     "name": "stdout",
     "output_type": "stream",
     "text": [
      "Help on class Student in module __main__:\n",
      "\n",
      "class Student(builtins.object)\n",
      " |  Student(rnumber, sname)\n",
      " |  \n",
      " |  This class contains information about the students\n",
      " |  Specs - roll number, name, age, gender, grade, class/standard, ...\n",
      " |  Functions - give exam, learn, study, play, attend classes, do homework, extra curricular, ..\n",
      " |  \n",
      " |  Methods defined here:\n",
      " |  \n",
      " |  __init__(self, rnumber, sname)\n",
      " |      Initialize self.  See help(type(self)) for accurate signature.\n",
      " |  \n",
      " |  studying(self, hour)\n",
      " |  \n",
      " |  ----------------------------------------------------------------------\n",
      " |  Class methods defined here:\n",
      " |  \n",
      " |  get_college() from builtins.type\n",
      " |  \n",
      " |  get_departments() from builtins.type\n",
      " |  \n",
      " |  ----------------------------------------------------------------------\n",
      " |  Static methods defined here:\n",
      " |  \n",
      " |  greet()\n",
      " |  \n",
      " |  ----------------------------------------------------------------------\n",
      " |  Data descriptors defined here:\n",
      " |  \n",
      " |  __dict__\n",
      " |      dictionary for instance variables (if defined)\n",
      " |  \n",
      " |  __weakref__\n",
      " |      list of weak references to the object (if defined)\n",
      " |  \n",
      " |  ----------------------------------------------------------------------\n",
      " |  Data and other attributes defined here:\n",
      " |  \n",
      " |  college = 'ABC college'\n",
      " |  \n",
      " |  departments = ['Arts', 'Commerce', 'Science', 'New Department']\n",
      "\n"
     ]
    }
   ],
   "source": [
    "help(Student)"
   ]
  },
  {
   "cell_type": "code",
   "execution_count": 38,
   "id": "d2c43c1f",
   "metadata": {},
   "outputs": [
    {
     "data": {
      "text/plain": [
       "mappingproxy({'__module__': '__main__',\n",
       "              '__doc__': '\\n    This class contains information about the students\\n    Specs - roll number, name, age, gender, grade, class/standard, ...\\n    Functions - give exam, learn, study, play, attend classes, do homework, extra curricular, ..\\n    ',\n",
       "              'college': 'ABC college',\n",
       "              'departments': ['Arts', 'Commerce', 'Science', 'New Department'],\n",
       "              '__init__': <function __main__.Student.__init__(self, rnumber, sname)>,\n",
       "              'studying': <function __main__.Student.studying(self, hour)>,\n",
       "              'get_college': <classmethod(<function Student.get_college at 0x000001A806D696C0>)>,\n",
       "              'get_departments': <classmethod(<function Student.get_departments at 0x000001A8068F6520>)>,\n",
       "              'greet': <staticmethod(<function Student.greet at 0x000001A806D17A60>)>,\n",
       "              '__dict__': <attribute '__dict__' of 'Student' objects>,\n",
       "              '__weakref__': <attribute '__weakref__' of 'Student' objects>})"
      ]
     },
     "execution_count": 38,
     "metadata": {},
     "output_type": "execute_result"
    }
   ],
   "source": [
    "Student.__dict__"
   ]
  },
  {
   "cell_type": "code",
   "execution_count": null,
   "id": "fa361e75",
   "metadata": {},
   "outputs": [],
   "source": []
  },
  {
   "cell_type": "code",
   "execution_count": 39,
   "id": "a800a7f4",
   "metadata": {},
   "outputs": [],
   "source": [
    "# Access specifiers"
   ]
  },
  {
   "cell_type": "code",
   "execution_count": 40,
   "id": "871aff9c",
   "metadata": {},
   "outputs": [],
   "source": [
    "# accessibility of the variables/methods of the class"
   ]
  },
  {
   "cell_type": "code",
   "execution_count": 41,
   "id": "4b0639a7",
   "metadata": {},
   "outputs": [],
   "source": [
    "# Public: Accessible to everyone. By default. eg. var = 1000, def m1()\n",
    "# Protected: Accessible to the class where it is defined and its child classes. \n",
    "    # Not outside the class. Eg: _var = 100, def _m1()\n",
    "# Private: Accessible only to the class where it is defined. not anywhere else.\n",
    "    # Eg: __var = 100, def __m1()"
   ]
  },
  {
   "cell_type": "code",
   "execution_count": 42,
   "id": "dae15b11",
   "metadata": {},
   "outputs": [],
   "source": [
    "class Employee:\n",
    "    company_name = \"XYZ Ltd\" # public\n",
    "    _department = 'HR' # protected\n",
    "    __salary = 20000 # private"
   ]
  },
  {
   "cell_type": "code",
   "execution_count": 43,
   "id": "f0866f83",
   "metadata": {},
   "outputs": [],
   "source": [
    "e1 = Employee()"
   ]
  },
  {
   "cell_type": "code",
   "execution_count": 44,
   "id": "dcf9f92b",
   "metadata": {
    "scrolled": true
   },
   "outputs": [
    {
     "data": {
      "text/plain": [
       "'XYZ Ltd'"
      ]
     },
     "execution_count": 44,
     "metadata": {},
     "output_type": "execute_result"
    }
   ],
   "source": [
    "e1.company_name"
   ]
  },
  {
   "cell_type": "code",
   "execution_count": 45,
   "id": "97f331a3",
   "metadata": {},
   "outputs": [
    {
     "data": {
      "text/plain": [
       "'HR'"
      ]
     },
     "execution_count": 45,
     "metadata": {},
     "output_type": "execute_result"
    }
   ],
   "source": [
    "e1._department"
   ]
  },
  {
   "cell_type": "code",
   "execution_count": 46,
   "id": "bfdc0239",
   "metadata": {},
   "outputs": [],
   "source": [
    "# In Python, there is no true protected access specifier\n",
    "# protected access specifiers can be accessed outside the class \n",
    "# It is a convention/standard which is used as an indication that it should not be used\n",
    "# outside the class. Only use inside the class or the child class"
   ]
  },
  {
   "cell_type": "code",
   "execution_count": 47,
   "id": "74ac390c",
   "metadata": {},
   "outputs": [
    {
     "ename": "AttributeError",
     "evalue": "'Employee' object has no attribute '__salary'",
     "output_type": "error",
     "traceback": [
      "\u001b[1;31m---------------------------------------------------------------------------\u001b[0m",
      "\u001b[1;31mAttributeError\u001b[0m                            Traceback (most recent call last)",
      "Cell \u001b[1;32mIn[47], line 1\u001b[0m\n\u001b[1;32m----> 1\u001b[0m e1\u001b[38;5;241m.\u001b[39m__salary\n",
      "\u001b[1;31mAttributeError\u001b[0m: 'Employee' object has no attribute '__salary'"
     ]
    }
   ],
   "source": [
    "e1.__salary"
   ]
  },
  {
   "cell_type": "code",
   "execution_count": 48,
   "id": "8fdad7c6",
   "metadata": {},
   "outputs": [
    {
     "name": "stdout",
     "output_type": "stream",
     "text": [
      "Help on class Employee in module __main__:\n",
      "\n",
      "class Employee(builtins.object)\n",
      " |  Data descriptors defined here:\n",
      " |  \n",
      " |  __dict__\n",
      " |      dictionary for instance variables (if defined)\n",
      " |  \n",
      " |  __weakref__\n",
      " |      list of weak references to the object (if defined)\n",
      " |  \n",
      " |  ----------------------------------------------------------------------\n",
      " |  Data and other attributes defined here:\n",
      " |  \n",
      " |  company_name = 'XYZ Ltd'\n",
      "\n"
     ]
    }
   ],
   "source": [
    "help(Employee)"
   ]
  },
  {
   "cell_type": "code",
   "execution_count": 49,
   "id": "43a52428",
   "metadata": {},
   "outputs": [
    {
     "data": {
      "text/plain": [
       "mappingproxy({'__module__': '__main__',\n",
       "              'company_name': 'XYZ Ltd',\n",
       "              '_department': 'HR',\n",
       "              '_Employee__salary': 20000,\n",
       "              '__dict__': <attribute '__dict__' of 'Employee' objects>,\n",
       "              '__weakref__': <attribute '__weakref__' of 'Employee' objects>,\n",
       "              '__doc__': None})"
      ]
     },
     "execution_count": 49,
     "metadata": {},
     "output_type": "execute_result"
    }
   ],
   "source": [
    "Employee.__dict__"
   ]
  },
  {
   "cell_type": "code",
   "execution_count": 50,
   "id": "ecac3d44",
   "metadata": {},
   "outputs": [],
   "source": [
    "# Python stores the private access specifiers by prefixing the class _ClassName to it"
   ]
  },
  {
   "cell_type": "code",
   "execution_count": 51,
   "id": "e60b6667",
   "metadata": {},
   "outputs": [],
   "source": [
    "# If MyClass has __var private variable, it will be stored as _MyClass__var"
   ]
  },
  {
   "cell_type": "code",
   "execution_count": 52,
   "id": "98415d2b",
   "metadata": {},
   "outputs": [],
   "source": [
    "# This is called Name Mangling!"
   ]
  },
  {
   "cell_type": "code",
   "execution_count": 53,
   "id": "770321c9",
   "metadata": {},
   "outputs": [],
   "source": [
    "# So, __salary is stored as _Employee__salary"
   ]
  },
  {
   "cell_type": "code",
   "execution_count": 54,
   "id": "87e019d0",
   "metadata": {},
   "outputs": [
    {
     "data": {
      "text/plain": [
       "20000"
      ]
     },
     "execution_count": 54,
     "metadata": {},
     "output_type": "execute_result"
    }
   ],
   "source": [
    "e1._Employee__salary"
   ]
  },
  {
   "cell_type": "code",
   "execution_count": null,
   "id": "fe9eae2f",
   "metadata": {},
   "outputs": [],
   "source": []
  },
  {
   "cell_type": "code",
   "execution_count": 55,
   "id": "b2e5e6df",
   "metadata": {},
   "outputs": [],
   "source": [
    "# Encapsulation\n",
    "# binding of data\n",
    "# capsulating the data of the class together"
   ]
  },
  {
   "cell_type": "code",
   "execution_count": null,
   "id": "0bfd7737",
   "metadata": {},
   "outputs": [],
   "source": []
  }
 ],
 "metadata": {
  "kernelspec": {
   "display_name": "Python 3 (ipykernel)",
   "language": "python",
   "name": "python3"
  },
  "language_info": {
   "codemirror_mode": {
    "name": "ipython",
    "version": 3
   },
   "file_extension": ".py",
   "mimetype": "text/x-python",
   "name": "python",
   "nbconvert_exporter": "python",
   "pygments_lexer": "ipython3",
   "version": "3.11.4"
  }
 },
 "nbformat": 4,
 "nbformat_minor": 5
}
