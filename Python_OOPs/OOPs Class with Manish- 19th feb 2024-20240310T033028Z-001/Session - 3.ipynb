{
 "cells": [
  {
   "cell_type": "code",
   "execution_count": 2,
   "id": "aa163b0d",
   "metadata": {},
   "outputs": [],
   "source": [
    "class Student:\n",
    "    '''\n",
    "    This class contains information about the students\n",
    "    Specs - roll number, name, age, gender, grade, class/standard, ...\n",
    "    Functions - give exam, learn, study, play, attend classes, do homework, extra curricular, ..\n",
    "    '''\n",
    "    \n",
    "    def studying(arg):\n",
    "        print(arg)\n",
    "        return 'The student studies 3 hours a day'"
   ]
  },
  {
   "cell_type": "code",
   "execution_count": 3,
   "id": "876c1c5d",
   "metadata": {},
   "outputs": [],
   "source": [
    "s1 = Student()"
   ]
  },
  {
   "cell_type": "code",
   "execution_count": 4,
   "id": "79bdfee9",
   "metadata": {},
   "outputs": [
    {
     "name": "stdout",
     "output_type": "stream",
     "text": [
      "<__main__.Student object at 0x0000017B8452B850>\n"
     ]
    },
    {
     "data": {
      "text/plain": [
       "'The student studies 3 hours a day'"
      ]
     },
     "execution_count": 4,
     "metadata": {},
     "output_type": "execute_result"
    }
   ],
   "source": [
    "s1.studying()"
   ]
  },
  {
   "cell_type": "code",
   "execution_count": 5,
   "id": "465cf7b1",
   "metadata": {},
   "outputs": [
    {
     "name": "stdout",
     "output_type": "stream",
     "text": [
      "<__main__.Student object at 0x0000017B8452B850>\n"
     ]
    }
   ],
   "source": [
    "print(s1)"
   ]
  },
  {
   "cell_type": "code",
   "execution_count": 6,
   "id": "682b43dc",
   "metadata": {},
   "outputs": [],
   "source": [
    "# The first argument of an instance method is the object itself!!\n",
    "# By convention/standard, the first argument of the instance method is called 'self'"
   ]
  },
  {
   "cell_type": "code",
   "execution_count": 7,
   "id": "3f1cda83",
   "metadata": {},
   "outputs": [],
   "source": [
    "class Student:\n",
    "    '''\n",
    "    This class contains information about the students\n",
    "    Specs - roll number, name, age, gender, grade, class/standard, ...\n",
    "    Functions - give exam, learn, study, play, attend classes, do homework, extra curricular, ..\n",
    "    '''\n",
    "    \n",
    "    def studying(self):\n",
    "        print(self)\n",
    "        return 'The student studies 3 hours a day'"
   ]
  },
  {
   "cell_type": "code",
   "execution_count": 8,
   "id": "7738379f",
   "metadata": {},
   "outputs": [],
   "source": [
    "s1 = Student()"
   ]
  },
  {
   "cell_type": "code",
   "execution_count": 9,
   "id": "a4c43082",
   "metadata": {},
   "outputs": [
    {
     "name": "stdout",
     "output_type": "stream",
     "text": [
      "<__main__.Student object at 0x0000017B844FF150>\n"
     ]
    }
   ],
   "source": [
    "print(s1)"
   ]
  },
  {
   "cell_type": "code",
   "execution_count": 10,
   "id": "fbb26e41",
   "metadata": {},
   "outputs": [
    {
     "name": "stdout",
     "output_type": "stream",
     "text": [
      "<__main__.Student object at 0x0000017B844FF150>\n"
     ]
    },
    {
     "data": {
      "text/plain": [
       "'The student studies 3 hours a day'"
      ]
     },
     "execution_count": 10,
     "metadata": {},
     "output_type": "execute_result"
    }
   ],
   "source": [
    "s1.studying()"
   ]
  },
  {
   "cell_type": "code",
   "execution_count": 11,
   "id": "9d20fdd0",
   "metadata": {},
   "outputs": [],
   "source": [
    "# The first argument of any instance method is the object itself.\n",
    "# That is why the instance methods are BOUND to the instance/object"
   ]
  },
  {
   "cell_type": "code",
   "execution_count": null,
   "id": "e01c378c",
   "metadata": {},
   "outputs": [],
   "source": []
  },
  {
   "cell_type": "code",
   "execution_count": 12,
   "id": "3790e617",
   "metadata": {},
   "outputs": [],
   "source": [
    "def add(a, b):\n",
    "    return a + b"
   ]
  },
  {
   "cell_type": "code",
   "execution_count": 13,
   "id": "f5ba4049",
   "metadata": {},
   "outputs": [
    {
     "name": "stdout",
     "output_type": "stream",
     "text": [
      "<class 'function'>\n"
     ]
    }
   ],
   "source": [
    "print(type(add))"
   ]
  },
  {
   "cell_type": "code",
   "execution_count": null,
   "id": "a835f3a5",
   "metadata": {},
   "outputs": [],
   "source": []
  },
  {
   "cell_type": "code",
   "execution_count": 14,
   "id": "53e2961e",
   "metadata": {},
   "outputs": [
    {
     "name": "stdout",
     "output_type": "stream",
     "text": [
      "<class 'method'>\n"
     ]
    }
   ],
   "source": [
    "print(type(s1.studying))"
   ]
  },
  {
   "cell_type": "code",
   "execution_count": 17,
   "id": "1c2c020e",
   "metadata": {},
   "outputs": [],
   "source": [
    "# All the functions that are defined inside the class are objects of 'method' class\n",
    "# Hence, they are called methods, not functions!!!"
   ]
  },
  {
   "cell_type": "code",
   "execution_count": null,
   "id": "67508cca",
   "metadata": {},
   "outputs": [],
   "source": []
  },
  {
   "cell_type": "code",
   "execution_count": 18,
   "id": "45b356fb",
   "metadata": {},
   "outputs": [],
   "source": [
    "class Student:\n",
    "    '''\n",
    "    This class contains information about the students\n",
    "    Specs - roll number, name, age, gender, grade, class/standard, ...\n",
    "    Functions - give exam, learn, study, play, attend classes, do homework, extra curricular, ..\n",
    "    '''\n",
    "    \n",
    "    def studying(self, hour):\n",
    "        print(self)\n",
    "        return f'The student studies {hour} hours a day'"
   ]
  },
  {
   "cell_type": "code",
   "execution_count": 19,
   "id": "58172ead",
   "metadata": {},
   "outputs": [],
   "source": [
    "s1 = Student()"
   ]
  },
  {
   "cell_type": "code",
   "execution_count": 20,
   "id": "4a1ed600",
   "metadata": {},
   "outputs": [
    {
     "ename": "TypeError",
     "evalue": "Student.studying() missing 1 required positional argument: 'hour'",
     "output_type": "error",
     "traceback": [
      "\u001b[1;31m---------------------------------------------------------------------------\u001b[0m",
      "\u001b[1;31mTypeError\u001b[0m                                 Traceback (most recent call last)",
      "Cell \u001b[1;32mIn[20], line 1\u001b[0m\n\u001b[1;32m----> 1\u001b[0m s1\u001b[38;5;241m.\u001b[39mstudying()\n",
      "\u001b[1;31mTypeError\u001b[0m: Student.studying() missing 1 required positional argument: 'hour'"
     ]
    }
   ],
   "source": [
    "s1.studying()"
   ]
  },
  {
   "cell_type": "code",
   "execution_count": 21,
   "id": "25b6e714",
   "metadata": {},
   "outputs": [
    {
     "name": "stdout",
     "output_type": "stream",
     "text": [
      "<__main__.Student object at 0x0000017B8483F4D0>\n"
     ]
    },
    {
     "data": {
      "text/plain": [
       "'The student studies 2 hours a day'"
      ]
     },
     "execution_count": 21,
     "metadata": {},
     "output_type": "execute_result"
    }
   ],
   "source": [
    "s1.studying(2)"
   ]
  },
  {
   "cell_type": "code",
   "execution_count": 22,
   "id": "48410214",
   "metadata": {},
   "outputs": [],
   "source": [
    "s2 = Student()"
   ]
  },
  {
   "cell_type": "code",
   "execution_count": 23,
   "id": "98ae8f92",
   "metadata": {},
   "outputs": [
    {
     "name": "stdout",
     "output_type": "stream",
     "text": [
      "<__main__.Student object at 0x0000017B858BF510>\n"
     ]
    },
    {
     "data": {
      "text/plain": [
       "'The student studies 5 hours a day'"
      ]
     },
     "execution_count": 23,
     "metadata": {},
     "output_type": "execute_result"
    }
   ],
   "source": [
    "s2.studying(5)"
   ]
  },
  {
   "cell_type": "code",
   "execution_count": null,
   "id": "a2883633",
   "metadata": {},
   "outputs": [],
   "source": []
  },
  {
   "cell_type": "code",
   "execution_count": 24,
   "id": "d06e7035",
   "metadata": {},
   "outputs": [],
   "source": [
    "# Initializer => __init__() "
   ]
  },
  {
   "cell_type": "code",
   "execution_count": 25,
   "id": "63dfb335",
   "metadata": {},
   "outputs": [],
   "source": [
    "# It is an instance method\n",
    "# It is used to create/initialize the variables/attributes during the creation of the object"
   ]
  },
  {
   "cell_type": "code",
   "execution_count": 26,
   "id": "79b2f066",
   "metadata": {},
   "outputs": [],
   "source": [
    "class Student:\n",
    "    '''\n",
    "    This class contains information about the students\n",
    "    Specs - roll number, name, age, gender, grade, class/standard, ...\n",
    "    Functions - give exam, learn, study, play, attend classes, do homework, extra curricular, ..\n",
    "    '''\n",
    "    \n",
    "    def __init__(self):\n",
    "        print(\"Initializer is called!!\")\n",
    "        \n",
    "    def studying(self, hour):\n",
    "        print(self)\n",
    "        return f'The student studies {hour} hours a day'"
   ]
  },
  {
   "cell_type": "code",
   "execution_count": 27,
   "id": "ce425a59",
   "metadata": {},
   "outputs": [
    {
     "name": "stdout",
     "output_type": "stream",
     "text": [
      "Initializer is called!!\n"
     ]
    }
   ],
   "source": [
    "s1 = Student()"
   ]
  },
  {
   "cell_type": "code",
   "execution_count": 28,
   "id": "3c9434e3",
   "metadata": {},
   "outputs": [],
   "source": [
    "# When we create an object of a class, __init__() method is called implicitly"
   ]
  },
  {
   "cell_type": "code",
   "execution_count": 29,
   "id": "4804e360",
   "metadata": {},
   "outputs": [],
   "source": [
    "# The __init__() method is a special instance method in Python which automatically \n",
    "# gets called when we create an object of a class\n",
    "\n",
    "# It is used to create and initialize the instance variables"
   ]
  },
  {
   "cell_type": "code",
   "execution_count": null,
   "id": "7025a6d7",
   "metadata": {},
   "outputs": [],
   "source": []
  },
  {
   "cell_type": "code",
   "execution_count": 30,
   "id": "49274c4b",
   "metadata": {},
   "outputs": [],
   "source": [
    "# How to associate/create a variable for an object??\n",
    "# How to create an instance variable??\n",
    "\n",
    "# object.variable = value"
   ]
  },
  {
   "cell_type": "code",
   "execution_count": 31,
   "id": "32309138",
   "metadata": {},
   "outputs": [],
   "source": [
    "class Student:\n",
    "    '''\n",
    "    This class contains information about the students\n",
    "    Specs - roll number, name, age, gender, grade, class/standard, ...\n",
    "    Functions - give exam, learn, study, play, attend classes, do homework, extra curricular, ..\n",
    "    '''\n",
    "    \n",
    "    def __init__(self):\n",
    "        print(\"Initializer is called!!\")\n",
    "        print(self)\n",
    "        \n",
    "    def studying(self, hour):\n",
    "        print(self)\n",
    "        return f'The student studies {hour} hours a day'"
   ]
  },
  {
   "cell_type": "code",
   "execution_count": 32,
   "id": "df37cba4",
   "metadata": {},
   "outputs": [
    {
     "name": "stdout",
     "output_type": "stream",
     "text": [
      "Initializer is called!!\n",
      "<__main__.Student object at 0x0000017B8591ABD0>\n"
     ]
    }
   ],
   "source": [
    "s1 = Student()"
   ]
  },
  {
   "cell_type": "code",
   "execution_count": 33,
   "id": "420bf7c2",
   "metadata": {},
   "outputs": [],
   "source": [
    "class Student:\n",
    "    '''\n",
    "    This class contains information about the students\n",
    "    Specs - roll number, name, age, gender, grade, class/standard, ...\n",
    "    Functions - give exam, learn, study, play, attend classes, do homework, extra curricular, ..\n",
    "    '''\n",
    "    \n",
    "    def __init__(self):\n",
    "        print(\"Initializer is called!!\")\n",
    "        print(self)\n",
    "        self.roll = 1001\n",
    "        self.name = \"Jack\"\n",
    "        \n",
    "    def studying(self, hour):\n",
    "        print(self)\n",
    "        return f'The student studies {hour} hours a day'"
   ]
  },
  {
   "cell_type": "code",
   "execution_count": 34,
   "id": "bacccaaa",
   "metadata": {},
   "outputs": [
    {
     "name": "stdout",
     "output_type": "stream",
     "text": [
      "Initializer is called!!\n",
      "<__main__.Student object at 0x0000017B8591AF10>\n"
     ]
    }
   ],
   "source": [
    "s1 = Student()"
   ]
  },
  {
   "cell_type": "code",
   "execution_count": 35,
   "id": "d630be00",
   "metadata": {},
   "outputs": [
    {
     "name": "stdout",
     "output_type": "stream",
     "text": [
      "1001\n"
     ]
    }
   ],
   "source": [
    "print(s1.roll)"
   ]
  },
  {
   "cell_type": "code",
   "execution_count": 36,
   "id": "fa6e7c45",
   "metadata": {},
   "outputs": [
    {
     "name": "stdout",
     "output_type": "stream",
     "text": [
      "Jack\n"
     ]
    }
   ],
   "source": [
    "print(s1.name)"
   ]
  },
  {
   "cell_type": "code",
   "execution_count": 37,
   "id": "a2226662",
   "metadata": {},
   "outputs": [
    {
     "name": "stdout",
     "output_type": "stream",
     "text": [
      "Initializer is called!!\n",
      "<__main__.Student object at 0x0000017B858BF190>\n"
     ]
    }
   ],
   "source": [
    "s2 = Student()"
   ]
  },
  {
   "cell_type": "code",
   "execution_count": 38,
   "id": "741cddb9",
   "metadata": {},
   "outputs": [
    {
     "data": {
      "text/plain": [
       "{'roll': 1001, 'name': 'Jack'}"
      ]
     },
     "execution_count": 38,
     "metadata": {},
     "output_type": "execute_result"
    }
   ],
   "source": [
    "s1.__dict__"
   ]
  },
  {
   "cell_type": "code",
   "execution_count": 39,
   "id": "941c8182",
   "metadata": {},
   "outputs": [
    {
     "data": {
      "text/plain": [
       "{'roll': 1001, 'name': 'Jack'}"
      ]
     },
     "execution_count": 39,
     "metadata": {},
     "output_type": "execute_result"
    }
   ],
   "source": [
    "s2.__dict__"
   ]
  },
  {
   "cell_type": "code",
   "execution_count": 40,
   "id": "9d126ffa",
   "metadata": {},
   "outputs": [],
   "source": [
    "class Student:\n",
    "    '''\n",
    "    This class contains information about the students\n",
    "    Specs - roll number, name, age, gender, grade, class/standard, ...\n",
    "    Functions - give exam, learn, study, play, attend classes, do homework, extra curricular, ..\n",
    "    '''\n",
    "    \n",
    "    def __init__(self, rnumber, sname):\n",
    "        print(\"Initializer is called!!\")\n",
    "        print(self)\n",
    "        self.roll = rnumber\n",
    "        self.name = sname\n",
    "        \n",
    "    def studying(self, hour):\n",
    "        print(self)\n",
    "        return f'The student studies {hour} hours a day'"
   ]
  },
  {
   "cell_type": "code",
   "execution_count": 41,
   "id": "40edf007",
   "metadata": {},
   "outputs": [
    {
     "ename": "TypeError",
     "evalue": "Student.__init__() missing 2 required positional arguments: 'rnumber' and 'sname'",
     "output_type": "error",
     "traceback": [
      "\u001b[1;31m---------------------------------------------------------------------------\u001b[0m",
      "\u001b[1;31mTypeError\u001b[0m                                 Traceback (most recent call last)",
      "Cell \u001b[1;32mIn[41], line 1\u001b[0m\n\u001b[1;32m----> 1\u001b[0m s1 \u001b[38;5;241m=\u001b[39m Student()\n",
      "\u001b[1;31mTypeError\u001b[0m: Student.__init__() missing 2 required positional arguments: 'rnumber' and 'sname'"
     ]
    }
   ],
   "source": [
    "s1 = Student()"
   ]
  },
  {
   "cell_type": "code",
   "execution_count": 42,
   "id": "f33b4489",
   "metadata": {},
   "outputs": [
    {
     "name": "stdout",
     "output_type": "stream",
     "text": [
      "Initializer is called!!\n",
      "<__main__.Student object at 0x0000017B858D1390>\n"
     ]
    }
   ],
   "source": [
    "s1 = Student(1001, 'Jack')"
   ]
  },
  {
   "cell_type": "code",
   "execution_count": 43,
   "id": "dc83a1de",
   "metadata": {},
   "outputs": [
    {
     "name": "stdout",
     "output_type": "stream",
     "text": [
      "Initializer is called!!\n",
      "<__main__.Student object at 0x0000017B8592EA10>\n"
     ]
    }
   ],
   "source": [
    "s2 = Student(1002, 'Carol')"
   ]
  },
  {
   "cell_type": "code",
   "execution_count": 44,
   "id": "5cadf517",
   "metadata": {},
   "outputs": [
    {
     "data": {
      "text/plain": [
       "{'roll': 1001, 'name': 'Jack'}"
      ]
     },
     "execution_count": 44,
     "metadata": {},
     "output_type": "execute_result"
    }
   ],
   "source": [
    "s1.__dict__"
   ]
  },
  {
   "cell_type": "code",
   "execution_count": 45,
   "id": "f08b87e9",
   "metadata": {},
   "outputs": [
    {
     "data": {
      "text/plain": [
       "{'roll': 1002, 'name': 'Carol'}"
      ]
     },
     "execution_count": 45,
     "metadata": {},
     "output_type": "execute_result"
    }
   ],
   "source": [
    "s2.__dict__"
   ]
  },
  {
   "cell_type": "code",
   "execution_count": 47,
   "id": "1d656afc",
   "metadata": {},
   "outputs": [
    {
     "name": "stdout",
     "output_type": "stream",
     "text": [
      "1001\n",
      "Jack\n",
      "1002\n",
      "Carol\n"
     ]
    }
   ],
   "source": [
    "print(s1.roll)\n",
    "print(s1.name)\n",
    "print(s2.roll)\n",
    "print(s2.name)"
   ]
  },
  {
   "cell_type": "code",
   "execution_count": 48,
   "id": "2ce34343",
   "metadata": {},
   "outputs": [],
   "source": [
    "# Instance variables => roll, name"
   ]
  },
  {
   "cell_type": "code",
   "execution_count": 49,
   "id": "d943c35e",
   "metadata": {},
   "outputs": [
    {
     "name": "stdout",
     "output_type": "stream",
     "text": [
      "Help on class Student in module __main__:\n",
      "\n",
      "class Student(builtins.object)\n",
      " |  Student(rnumber, sname)\n",
      " |  \n",
      " |  This class contains information about the students\n",
      " |  Specs - roll number, name, age, gender, grade, class/standard, ...\n",
      " |  Functions - give exam, learn, study, play, attend classes, do homework, extra curricular, ..\n",
      " |  \n",
      " |  Methods defined here:\n",
      " |  \n",
      " |  __init__(self, rnumber, sname)\n",
      " |      Initialize self.  See help(type(self)) for accurate signature.\n",
      " |  \n",
      " |  studying(self, hour)\n",
      " |  \n",
      " |  ----------------------------------------------------------------------\n",
      " |  Data descriptors defined here:\n",
      " |  \n",
      " |  __dict__\n",
      " |      dictionary for instance variables (if defined)\n",
      " |  \n",
      " |  __weakref__\n",
      " |      list of weak references to the object (if defined)\n",
      "\n"
     ]
    }
   ],
   "source": [
    "help(Student)"
   ]
  },
  {
   "cell_type": "code",
   "execution_count": 50,
   "id": "79329156",
   "metadata": {},
   "outputs": [],
   "source": [
    "# Instance variables are specific to the objects/instances\n",
    "# They are different for different objects and are not shared between objects"
   ]
  },
  {
   "cell_type": "code",
   "execution_count": null,
   "id": "29f80833",
   "metadata": {},
   "outputs": [],
   "source": []
  },
  {
   "cell_type": "code",
   "execution_count": 51,
   "id": "e6d90250",
   "metadata": {},
   "outputs": [
    {
     "data": {
      "text/plain": [
       "{'roll': 1001, 'name': 'Jack'}"
      ]
     },
     "execution_count": 51,
     "metadata": {},
     "output_type": "execute_result"
    }
   ],
   "source": [
    "s1.__dict__"
   ]
  },
  {
   "cell_type": "code",
   "execution_count": 52,
   "id": "0be3d527",
   "metadata": {},
   "outputs": [
    {
     "data": {
      "text/plain": [
       "{'roll': 1002, 'name': 'Carol'}"
      ]
     },
     "execution_count": 52,
     "metadata": {},
     "output_type": "execute_result"
    }
   ],
   "source": [
    "s2.__dict__"
   ]
  },
  {
   "cell_type": "code",
   "execution_count": 53,
   "id": "2b94e004",
   "metadata": {},
   "outputs": [],
   "source": [
    "s1.grade = 'A'"
   ]
  },
  {
   "cell_type": "code",
   "execution_count": 54,
   "id": "3e08bb79",
   "metadata": {},
   "outputs": [
    {
     "data": {
      "text/plain": [
       "{'roll': 1001, 'name': 'Jack', 'grade': 'A'}"
      ]
     },
     "execution_count": 54,
     "metadata": {},
     "output_type": "execute_result"
    }
   ],
   "source": [
    "s1.__dict__"
   ]
  },
  {
   "cell_type": "code",
   "execution_count": 55,
   "id": "8d35a8b4",
   "metadata": {},
   "outputs": [
    {
     "data": {
      "text/plain": [
       "{'roll': 1002, 'name': 'Carol'}"
      ]
     },
     "execution_count": 55,
     "metadata": {},
     "output_type": "execute_result"
    }
   ],
   "source": [
    "s2.__dict__"
   ]
  },
  {
   "cell_type": "code",
   "execution_count": null,
   "id": "c561f568",
   "metadata": {},
   "outputs": [],
   "source": []
  },
  {
   "cell_type": "code",
   "execution_count": 56,
   "id": "945ca90e",
   "metadata": {},
   "outputs": [
    {
     "data": {
      "text/plain": [
       "mappingproxy({'__module__': '__main__',\n",
       "              '__doc__': '\\n    This class contains information about the students\\n    Specs - roll number, name, age, gender, grade, class/standard, ...\\n    Functions - give exam, learn, study, play, attend classes, do homework, extra curricular, ..\\n    ',\n",
       "              '__init__': <function __main__.Student.__init__(self, rnumber, sname)>,\n",
       "              'studying': <function __main__.Student.studying(self, hour)>,\n",
       "              '__dict__': <attribute '__dict__' of 'Student' objects>,\n",
       "              '__weakref__': <attribute '__weakref__' of 'Student' objects>})"
      ]
     },
     "execution_count": 56,
     "metadata": {},
     "output_type": "execute_result"
    }
   ],
   "source": [
    "Student.__dict__"
   ]
  },
  {
   "cell_type": "code",
   "execution_count": 57,
   "id": "72c008a6",
   "metadata": {},
   "outputs": [
    {
     "name": "stdout",
     "output_type": "stream",
     "text": [
      "Help on class Student in module __main__:\n",
      "\n",
      "class Student(builtins.object)\n",
      " |  Student(rnumber, sname)\n",
      " |  \n",
      " |  This class contains information about the students\n",
      " |  Specs - roll number, name, age, gender, grade, class/standard, ...\n",
      " |  Functions - give exam, learn, study, play, attend classes, do homework, extra curricular, ..\n",
      " |  \n",
      " |  Methods defined here:\n",
      " |  \n",
      " |  __init__(self, rnumber, sname)\n",
      " |      Initialize self.  See help(type(self)) for accurate signature.\n",
      " |  \n",
      " |  studying(self, hour)\n",
      " |  \n",
      " |  ----------------------------------------------------------------------\n",
      " |  Data descriptors defined here:\n",
      " |  \n",
      " |  __dict__\n",
      " |      dictionary for instance variables (if defined)\n",
      " |  \n",
      " |  __weakref__\n",
      " |      list of weak references to the object (if defined)\n",
      "\n"
     ]
    }
   ],
   "source": [
    "help(Student)"
   ]
  },
  {
   "cell_type": "code",
   "execution_count": null,
   "id": "38edeb20",
   "metadata": {},
   "outputs": [],
   "source": []
  },
  {
   "cell_type": "code",
   "execution_count": 58,
   "id": "5c9e91d5",
   "metadata": {},
   "outputs": [],
   "source": [
    "# class variable\n",
    "# defined at the class level\n",
    "\n",
    "# Same copy of the class variable will be shared among all the objects of that class"
   ]
  },
  {
   "cell_type": "code",
   "execution_count": 59,
   "id": "e64a5a95",
   "metadata": {},
   "outputs": [],
   "source": [
    "class Student:\n",
    "    '''\n",
    "    This class contains information about the students\n",
    "    Specs - roll number, name, age, gender, grade, class/standard, ...\n",
    "    Functions - give exam, learn, study, play, attend classes, do homework, extra curricular, ..\n",
    "    '''\n",
    "    college = 'ABC college'\n",
    "    departments = ['Arts', 'Commerce', 'Science']\n",
    "    \n",
    "    def __init__(self, rnumber, sname):\n",
    "        print(\"Initializer is called!!\")\n",
    "        print(self)\n",
    "        self.roll = rnumber\n",
    "        self.name = sname\n",
    "        \n",
    "    def studying(self, hour):\n",
    "        print(self)\n",
    "        return f'The student studies {hour} hours a day'"
   ]
  },
  {
   "cell_type": "code",
   "execution_count": 60,
   "id": "87ba8f6f",
   "metadata": {},
   "outputs": [],
   "source": [
    "# 'college' and 'departments' are class variables"
   ]
  },
  {
   "cell_type": "code",
   "execution_count": 61,
   "id": "935375a8",
   "metadata": {},
   "outputs": [
    {
     "data": {
      "text/plain": [
       "mappingproxy({'__module__': '__main__',\n",
       "              '__doc__': '\\n    This class contains information about the students\\n    Specs - roll number, name, age, gender, grade, class/standard, ...\\n    Functions - give exam, learn, study, play, attend classes, do homework, extra curricular, ..\\n    ',\n",
       "              'college': 'ABC college',\n",
       "              'departments': ['Arts', 'Commerce', 'Science'],\n",
       "              '__init__': <function __main__.Student.__init__(self, rnumber, sname)>,\n",
       "              'studying': <function __main__.Student.studying(self, hour)>,\n",
       "              '__dict__': <attribute '__dict__' of 'Student' objects>,\n",
       "              '__weakref__': <attribute '__weakref__' of 'Student' objects>})"
      ]
     },
     "execution_count": 61,
     "metadata": {},
     "output_type": "execute_result"
    }
   ],
   "source": [
    "Student.__dict__"
   ]
  },
  {
   "cell_type": "code",
   "execution_count": 62,
   "id": "3d37037d",
   "metadata": {},
   "outputs": [
    {
     "name": "stdout",
     "output_type": "stream",
     "text": [
      "Initializer is called!!\n",
      "<__main__.Student object at 0x0000017B858F9110>\n"
     ]
    }
   ],
   "source": [
    "s1 = Student(1001, 'Mark')"
   ]
  },
  {
   "cell_type": "code",
   "execution_count": 63,
   "id": "2c25d3ab",
   "metadata": {},
   "outputs": [
    {
     "data": {
      "text/plain": [
       "{'roll': 1001, 'name': 'Mark'}"
      ]
     },
     "execution_count": 63,
     "metadata": {},
     "output_type": "execute_result"
    }
   ],
   "source": [
    "s1.__dict__"
   ]
  },
  {
   "cell_type": "code",
   "execution_count": 64,
   "id": "490e4a68",
   "metadata": {},
   "outputs": [
    {
     "name": "stdout",
     "output_type": "stream",
     "text": [
      "Initializer is called!!\n",
      "<__main__.Student object at 0x0000017B85934490>\n"
     ]
    }
   ],
   "source": [
    "s2 = Student(1002, 'Alice')"
   ]
  },
  {
   "cell_type": "code",
   "execution_count": 65,
   "id": "5c21e471",
   "metadata": {},
   "outputs": [
    {
     "data": {
      "text/plain": [
       "{'roll': 1002, 'name': 'Alice'}"
      ]
     },
     "execution_count": 65,
     "metadata": {},
     "output_type": "execute_result"
    }
   ],
   "source": [
    "s2.__dict__"
   ]
  },
  {
   "cell_type": "code",
   "execution_count": 66,
   "id": "f97b3470",
   "metadata": {},
   "outputs": [
    {
     "data": {
      "text/plain": [
       "'Mark'"
      ]
     },
     "execution_count": 66,
     "metadata": {},
     "output_type": "execute_result"
    }
   ],
   "source": [
    "s1.name"
   ]
  },
  {
   "cell_type": "code",
   "execution_count": 67,
   "id": "9bab372b",
   "metadata": {},
   "outputs": [
    {
     "data": {
      "text/plain": [
       "'Alice'"
      ]
     },
     "execution_count": 67,
     "metadata": {},
     "output_type": "execute_result"
    }
   ],
   "source": [
    "s2.name"
   ]
  },
  {
   "cell_type": "code",
   "execution_count": 68,
   "id": "08e18b04",
   "metadata": {},
   "outputs": [
    {
     "data": {
      "text/plain": [
       "'ABC college'"
      ]
     },
     "execution_count": 68,
     "metadata": {},
     "output_type": "execute_result"
    }
   ],
   "source": [
    "s1.college"
   ]
  },
  {
   "cell_type": "code",
   "execution_count": 69,
   "id": "ec128d88",
   "metadata": {},
   "outputs": [
    {
     "data": {
      "text/plain": [
       "'ABC college'"
      ]
     },
     "execution_count": 69,
     "metadata": {},
     "output_type": "execute_result"
    }
   ],
   "source": [
    "s2.college"
   ]
  },
  {
   "cell_type": "code",
   "execution_count": 70,
   "id": "e12623c9",
   "metadata": {},
   "outputs": [
    {
     "data": {
      "text/plain": [
       "['Arts', 'Commerce', 'Science']"
      ]
     },
     "execution_count": 70,
     "metadata": {},
     "output_type": "execute_result"
    }
   ],
   "source": [
    "s1.departments"
   ]
  },
  {
   "cell_type": "code",
   "execution_count": 71,
   "id": "e8d7e5d6",
   "metadata": {},
   "outputs": [
    {
     "data": {
      "text/plain": [
       "['Arts', 'Commerce', 'Science']"
      ]
     },
     "execution_count": 71,
     "metadata": {},
     "output_type": "execute_result"
    }
   ],
   "source": [
    "s2.departments"
   ]
  },
  {
   "cell_type": "code",
   "execution_count": 72,
   "id": "e0fd3598",
   "metadata": {},
   "outputs": [
    {
     "ename": "AttributeError",
     "evalue": "'Student' object has no attribute 'principal'",
     "output_type": "error",
     "traceback": [
      "\u001b[1;31m---------------------------------------------------------------------------\u001b[0m",
      "\u001b[1;31mAttributeError\u001b[0m                            Traceback (most recent call last)",
      "Cell \u001b[1;32mIn[72], line 1\u001b[0m\n\u001b[1;32m----> 1\u001b[0m s2\u001b[38;5;241m.\u001b[39mprincipal\n",
      "\u001b[1;31mAttributeError\u001b[0m: 'Student' object has no attribute 'principal'"
     ]
    }
   ],
   "source": [
    "s2.principal"
   ]
  },
  {
   "cell_type": "code",
   "execution_count": 73,
   "id": "ad1a7cb1",
   "metadata": {},
   "outputs": [],
   "source": [
    "s1.college = 'XYZ college'"
   ]
  },
  {
   "cell_type": "code",
   "execution_count": 74,
   "id": "03192f78",
   "metadata": {},
   "outputs": [
    {
     "data": {
      "text/plain": [
       "'XYZ college'"
      ]
     },
     "execution_count": 74,
     "metadata": {},
     "output_type": "execute_result"
    }
   ],
   "source": [
    "s1.college"
   ]
  },
  {
   "cell_type": "code",
   "execution_count": 75,
   "id": "4b99f441",
   "metadata": {},
   "outputs": [
    {
     "data": {
      "text/plain": [
       "'ABC college'"
      ]
     },
     "execution_count": 75,
     "metadata": {},
     "output_type": "execute_result"
    }
   ],
   "source": [
    "s2.college"
   ]
  },
  {
   "cell_type": "code",
   "execution_count": 76,
   "id": "b5470665",
   "metadata": {},
   "outputs": [
    {
     "data": {
      "text/plain": [
       "mappingproxy({'__module__': '__main__',\n",
       "              '__doc__': '\\n    This class contains information about the students\\n    Specs - roll number, name, age, gender, grade, class/standard, ...\\n    Functions - give exam, learn, study, play, attend classes, do homework, extra curricular, ..\\n    ',\n",
       "              'college': 'ABC college',\n",
       "              'departments': ['Arts', 'Commerce', 'Science'],\n",
       "              '__init__': <function __main__.Student.__init__(self, rnumber, sname)>,\n",
       "              'studying': <function __main__.Student.studying(self, hour)>,\n",
       "              '__dict__': <attribute '__dict__' of 'Student' objects>,\n",
       "              '__weakref__': <attribute '__weakref__' of 'Student' objects>})"
      ]
     },
     "execution_count": 76,
     "metadata": {},
     "output_type": "execute_result"
    }
   ],
   "source": [
    "Student.__dict__"
   ]
  },
  {
   "cell_type": "code",
   "execution_count": 77,
   "id": "2ff571b1",
   "metadata": {},
   "outputs": [
    {
     "data": {
      "text/plain": [
       "{'roll': 1002, 'name': 'Alice'}"
      ]
     },
     "execution_count": 77,
     "metadata": {},
     "output_type": "execute_result"
    }
   ],
   "source": [
    "s2.__dict__"
   ]
  },
  {
   "cell_type": "code",
   "execution_count": 78,
   "id": "d6c9bf67",
   "metadata": {},
   "outputs": [
    {
     "data": {
      "text/plain": [
       "{'roll': 1001, 'name': 'Mark', 'college': 'XYZ college'}"
      ]
     },
     "execution_count": 78,
     "metadata": {},
     "output_type": "execute_result"
    }
   ],
   "source": [
    "s1.__dict__"
   ]
  },
  {
   "cell_type": "code",
   "execution_count": 79,
   "id": "545d9381",
   "metadata": {},
   "outputs": [
    {
     "ename": "NameError",
     "evalue": "name 'college' is not defined",
     "output_type": "error",
     "traceback": [
      "\u001b[1;31m---------------------------------------------------------------------------\u001b[0m",
      "\u001b[1;31mNameError\u001b[0m                                 Traceback (most recent call last)",
      "Cell \u001b[1;32mIn[79], line 1\u001b[0m\n\u001b[1;32m----> 1\u001b[0m \u001b[38;5;28mdelattr\u001b[39m(s1, college)\n",
      "\u001b[1;31mNameError\u001b[0m: name 'college' is not defined"
     ]
    }
   ],
   "source": [
    "delattr(s1, college)"
   ]
  },
  {
   "cell_type": "code",
   "execution_count": 80,
   "id": "544ca40a",
   "metadata": {},
   "outputs": [],
   "source": [
    "delattr(s1, 'college')"
   ]
  },
  {
   "cell_type": "code",
   "execution_count": 81,
   "id": "bbafbd6f",
   "metadata": {},
   "outputs": [
    {
     "data": {
      "text/plain": [
       "{'roll': 1001, 'name': 'Mark'}"
      ]
     },
     "execution_count": 81,
     "metadata": {},
     "output_type": "execute_result"
    }
   ],
   "source": [
    "s1.__dict__"
   ]
  },
  {
   "cell_type": "code",
   "execution_count": 82,
   "id": "1934cf03",
   "metadata": {},
   "outputs": [
    {
     "data": {
      "text/plain": [
       "'ABC college'"
      ]
     },
     "execution_count": 82,
     "metadata": {},
     "output_type": "execute_result"
    }
   ],
   "source": [
    "s1.college"
   ]
  },
  {
   "cell_type": "code",
   "execution_count": 83,
   "id": "cf5bd9bd",
   "metadata": {},
   "outputs": [
    {
     "data": {
      "text/plain": [
       "'Mark'"
      ]
     },
     "execution_count": 83,
     "metadata": {},
     "output_type": "execute_result"
    }
   ],
   "source": [
    "getattr(s1, 'name')"
   ]
  },
  {
   "cell_type": "code",
   "execution_count": null,
   "id": "9d42a192",
   "metadata": {},
   "outputs": [],
   "source": []
  },
  {
   "cell_type": "code",
   "execution_count": 84,
   "id": "526e7a00",
   "metadata": {},
   "outputs": [
    {
     "data": {
      "text/plain": [
       "mappingproxy({'__module__': '__main__',\n",
       "              '__doc__': '\\n    This class contains information about the students\\n    Specs - roll number, name, age, gender, grade, class/standard, ...\\n    Functions - give exam, learn, study, play, attend classes, do homework, extra curricular, ..\\n    ',\n",
       "              'college': 'ABC college',\n",
       "              'departments': ['Arts', 'Commerce', 'Science'],\n",
       "              '__init__': <function __main__.Student.__init__(self, rnumber, sname)>,\n",
       "              'studying': <function __main__.Student.studying(self, hour)>,\n",
       "              '__dict__': <attribute '__dict__' of 'Student' objects>,\n",
       "              '__weakref__': <attribute '__weakref__' of 'Student' objects>})"
      ]
     },
     "execution_count": 84,
     "metadata": {},
     "output_type": "execute_result"
    }
   ],
   "source": [
    "Student.__dict__"
   ]
  },
  {
   "cell_type": "code",
   "execution_count": 85,
   "id": "b71e5c64",
   "metadata": {},
   "outputs": [
    {
     "data": {
      "text/plain": [
       "'ABC college'"
      ]
     },
     "execution_count": 85,
     "metadata": {},
     "output_type": "execute_result"
    }
   ],
   "source": [
    "Student.college"
   ]
  },
  {
   "cell_type": "code",
   "execution_count": 86,
   "id": "26f6f9ad",
   "metadata": {},
   "outputs": [
    {
     "data": {
      "text/plain": [
       "'ABC college'"
      ]
     },
     "execution_count": 86,
     "metadata": {},
     "output_type": "execute_result"
    }
   ],
   "source": [
    "s1.college"
   ]
  },
  {
   "cell_type": "code",
   "execution_count": 87,
   "id": "32175171",
   "metadata": {},
   "outputs": [
    {
     "data": {
      "text/plain": [
       "'ABC college'"
      ]
     },
     "execution_count": 87,
     "metadata": {},
     "output_type": "execute_result"
    }
   ],
   "source": [
    "s2.college"
   ]
  },
  {
   "cell_type": "code",
   "execution_count": 88,
   "id": "1f5317ee",
   "metadata": {},
   "outputs": [],
   "source": [
    "Student.college = 'New college name'"
   ]
  },
  {
   "cell_type": "code",
   "execution_count": 89,
   "id": "74e3c794",
   "metadata": {},
   "outputs": [
    {
     "data": {
      "text/plain": [
       "mappingproxy({'__module__': '__main__',\n",
       "              '__doc__': '\\n    This class contains information about the students\\n    Specs - roll number, name, age, gender, grade, class/standard, ...\\n    Functions - give exam, learn, study, play, attend classes, do homework, extra curricular, ..\\n    ',\n",
       "              'college': 'New college name',\n",
       "              'departments': ['Arts', 'Commerce', 'Science'],\n",
       "              '__init__': <function __main__.Student.__init__(self, rnumber, sname)>,\n",
       "              'studying': <function __main__.Student.studying(self, hour)>,\n",
       "              '__dict__': <attribute '__dict__' of 'Student' objects>,\n",
       "              '__weakref__': <attribute '__weakref__' of 'Student' objects>})"
      ]
     },
     "execution_count": 89,
     "metadata": {},
     "output_type": "execute_result"
    }
   ],
   "source": [
    "Student.__dict__"
   ]
  },
  {
   "cell_type": "code",
   "execution_count": 90,
   "id": "e398b366",
   "metadata": {},
   "outputs": [
    {
     "data": {
      "text/plain": [
       "'New college name'"
      ]
     },
     "execution_count": 90,
     "metadata": {},
     "output_type": "execute_result"
    }
   ],
   "source": [
    "s1.college"
   ]
  },
  {
   "cell_type": "code",
   "execution_count": 91,
   "id": "6045e0a9",
   "metadata": {},
   "outputs": [
    {
     "name": "stdout",
     "output_type": "stream",
     "text": [
      "Initializer is called!!\n",
      "<__main__.Student object at 0x0000017B8597D150>\n"
     ]
    }
   ],
   "source": [
    "s3 = Student(1003, 'Ross')"
   ]
  },
  {
   "cell_type": "code",
   "execution_count": 92,
   "id": "94f14111",
   "metadata": {},
   "outputs": [
    {
     "data": {
      "text/plain": [
       "'New college name'"
      ]
     },
     "execution_count": 92,
     "metadata": {},
     "output_type": "execute_result"
    }
   ],
   "source": [
    "s3.college"
   ]
  },
  {
   "cell_type": "code",
   "execution_count": null,
   "id": "d9cf8266",
   "metadata": {},
   "outputs": [],
   "source": []
  },
  {
   "cell_type": "code",
   "execution_count": 93,
   "id": "3bba2c4b",
   "metadata": {},
   "outputs": [],
   "source": [
    "# By default, any method created inside the class is an instance method"
   ]
  },
  {
   "cell_type": "code",
   "execution_count": null,
   "id": "26697b06",
   "metadata": {},
   "outputs": [],
   "source": []
  },
  {
   "cell_type": "code",
   "execution_count": 94,
   "id": "7582f9cc",
   "metadata": {},
   "outputs": [],
   "source": [
    "# Class method\n",
    "# method defined inside the class which is bound to the class, NOT the object/instance"
   ]
  },
  {
   "cell_type": "code",
   "execution_count": 95,
   "id": "7dc63ab4",
   "metadata": {},
   "outputs": [],
   "source": [
    "class Welcome:\n",
    "    def greet():\n",
    "        print(\"Hello\")"
   ]
  },
  {
   "cell_type": "code",
   "execution_count": 96,
   "id": "9f85f11a",
   "metadata": {},
   "outputs": [],
   "source": [
    "w1 = Welcome()"
   ]
  },
  {
   "cell_type": "code",
   "execution_count": 97,
   "id": "b861f3f1",
   "metadata": {},
   "outputs": [
    {
     "ename": "TypeError",
     "evalue": "Welcome.greet() takes 0 positional arguments but 1 was given",
     "output_type": "error",
     "traceback": [
      "\u001b[1;31m---------------------------------------------------------------------------\u001b[0m",
      "\u001b[1;31mTypeError\u001b[0m                                 Traceback (most recent call last)",
      "Cell \u001b[1;32mIn[97], line 1\u001b[0m\n\u001b[1;32m----> 1\u001b[0m w1\u001b[38;5;241m.\u001b[39mgreet()\n",
      "\u001b[1;31mTypeError\u001b[0m: Welcome.greet() takes 0 positional arguments but 1 was given"
     ]
    }
   ],
   "source": [
    "w1.greet()"
   ]
  },
  {
   "cell_type": "code",
   "execution_count": 98,
   "id": "baee70bc",
   "metadata": {},
   "outputs": [],
   "source": [
    "# to create a class method, we use a decorator called 'classmethod'"
   ]
  },
  {
   "cell_type": "code",
   "execution_count": 99,
   "id": "65374d15",
   "metadata": {},
   "outputs": [],
   "source": [
    "class Welcome:\n",
    "    @classmethod\n",
    "    def greet():\n",
    "        print(\"Hello\")"
   ]
  },
  {
   "cell_type": "code",
   "execution_count": 100,
   "id": "ae414633",
   "metadata": {},
   "outputs": [],
   "source": [
    "# Now, greet() is a class method"
   ]
  },
  {
   "cell_type": "code",
   "execution_count": 101,
   "id": "bb71bd13",
   "metadata": {},
   "outputs": [],
   "source": [
    "w1 = Welcome()"
   ]
  },
  {
   "cell_type": "code",
   "execution_count": 102,
   "id": "b787370f",
   "metadata": {},
   "outputs": [
    {
     "ename": "TypeError",
     "evalue": "Welcome.greet() takes 0 positional arguments but 1 was given",
     "output_type": "error",
     "traceback": [
      "\u001b[1;31m---------------------------------------------------------------------------\u001b[0m",
      "\u001b[1;31mTypeError\u001b[0m                                 Traceback (most recent call last)",
      "Cell \u001b[1;32mIn[102], line 1\u001b[0m\n\u001b[1;32m----> 1\u001b[0m w1\u001b[38;5;241m.\u001b[39mgreet()\n",
      "\u001b[1;31mTypeError\u001b[0m: Welcome.greet() takes 0 positional arguments but 1 was given"
     ]
    }
   ],
   "source": [
    "w1.greet()"
   ]
  },
  {
   "cell_type": "code",
   "execution_count": 103,
   "id": "3c0aed52",
   "metadata": {},
   "outputs": [],
   "source": [
    "class Welcome:\n",
    "    @classmethod\n",
    "    def greet(arg):\n",
    "        print(arg)\n",
    "        print(\"Hello\")"
   ]
  },
  {
   "cell_type": "code",
   "execution_count": 104,
   "id": "7aed1ceb",
   "metadata": {},
   "outputs": [],
   "source": [
    "w1 = Welcome()"
   ]
  },
  {
   "cell_type": "code",
   "execution_count": 105,
   "id": "1aa92e7f",
   "metadata": {},
   "outputs": [
    {
     "name": "stdout",
     "output_type": "stream",
     "text": [
      "<class '__main__.Welcome'>\n",
      "Hello\n"
     ]
    }
   ],
   "source": [
    "w1.greet()"
   ]
  },
  {
   "cell_type": "code",
   "execution_count": 106,
   "id": "1edb7b05",
   "metadata": {},
   "outputs": [
    {
     "name": "stdout",
     "output_type": "stream",
     "text": [
      "<class '__main__.Welcome'>\n"
     ]
    }
   ],
   "source": [
    "print(Welcome)"
   ]
  },
  {
   "cell_type": "code",
   "execution_count": 107,
   "id": "002f3979",
   "metadata": {},
   "outputs": [],
   "source": [
    "# When we call the class method using the object, Python implicitly\n",
    "# passes the class as the first argument of that class method"
   ]
  },
  {
   "cell_type": "code",
   "execution_count": 108,
   "id": "ec8ad1a7",
   "metadata": {},
   "outputs": [],
   "source": [
    "# Hence, we need an argument for that\n",
    "# By convention, that argument is 'cls'"
   ]
  },
  {
   "cell_type": "code",
   "execution_count": 109,
   "id": "dabf5a3b",
   "metadata": {},
   "outputs": [],
   "source": [
    "class Welcome:\n",
    "    @classmethod\n",
    "    def greet(cls):\n",
    "        print(cls)\n",
    "        print(\"Hello\")"
   ]
  },
  {
   "cell_type": "code",
   "execution_count": 110,
   "id": "1b388ca5",
   "metadata": {},
   "outputs": [
    {
     "name": "stdout",
     "output_type": "stream",
     "text": [
      "<class '__main__.Welcome'>\n",
      "Hello\n"
     ]
    }
   ],
   "source": [
    "w1 = Welcome()\n",
    "w1.greet()"
   ]
  },
  {
   "cell_type": "code",
   "execution_count": null,
   "id": "ead34f8b",
   "metadata": {},
   "outputs": [],
   "source": []
  }
 ],
 "metadata": {
  "kernelspec": {
   "display_name": "Python 3 (ipykernel)",
   "language": "python",
   "name": "python3"
  },
  "language_info": {
   "codemirror_mode": {
    "name": "ipython",
    "version": 3
   },
   "file_extension": ".py",
   "mimetype": "text/x-python",
   "name": "python",
   "nbconvert_exporter": "python",
   "pygments_lexer": "ipython3",
   "version": "3.11.4"
  }
 },
 "nbformat": 4,
 "nbformat_minor": 5
}
